{
 "cells": [
  {
   "cell_type": "markdown",
   "metadata": {},
   "source": [
    "# Spark Core\n",
    "\n",
    "#### SprakCore:包含了PySpark的全部特性(任务管理, I/O操作, 容错, 内存管理) \n",
    "\n",
    "- Spark SQL\n",
    "- Spark Streaming\n",
    "- Spark MLlib\n",
    "- GraphX\n",
    "- Community Packages"
   ]
  },
  {
   "cell_type": "markdown",
   "metadata": {},
   "source": [
    "## Spark SQL\n",
    "\n",
    "#### 处理结构化数据，相当于一个分布式的SQL查询引擎"
   ]
  },
  {
   "cell_type": "markdown",
   "metadata": {},
   "source": [
    "## Spark Streaming\n",
    "\n",
    "#### 处理实时的流数据(可伸缩，容错), 可从多个数据源获取数据，例如Kafka, Flume"
   ]
  },
  {
   "cell_type": "markdown",
   "metadata": {},
   "source": [
    "## Spark MLlib\n",
    "\n",
    "#### building分布式的机器学习模型，可实现分类，回归，聚类，推荐，自然语言处理等任务"
   ]
  },
  {
   "cell_type": "markdown",
   "metadata": {},
   "source": [
    "## Spark GraphX/Graphframe\n",
    "\n",
    "#### 用于图分析，Graph frames可以表示关系图和图的可视化"
   ]
  }
 ],
 "metadata": {
  "kernelspec": {
   "display_name": "Python 3",
   "language": "python",
   "name": "python3"
  },
  "language_info": {
   "codemirror_mode": {
    "name": "ipython",
    "version": 3
   },
   "file_extension": ".py",
   "mimetype": "text/x-python",
   "name": "python",
   "nbconvert_exporter": "python",
   "pygments_lexer": "ipython3",
   "version": "3.7.2"
  }
 },
 "nbformat": 4,
 "nbformat_minor": 2
}
