{
 "cells": [
  {
   "cell_type": "code",
   "execution_count": 1,
   "metadata": {},
   "outputs": [],
   "source": [
    "from pyspark import SparkConf, SparkContext\n",
    "sc = SparkContext()"
   ]
  },
  {
   "cell_type": "code",
   "execution_count": 7,
   "metadata": {},
   "outputs": [
    {
     "data": {
      "text/plain": [
       "355"
      ]
     },
     "execution_count": 7,
     "metadata": {},
     "output_type": "execute_result"
    }
   ],
   "source": [
    "data = sc.textFile('../data/Uber-Jan-Feb-FOIL.csv')\n",
    "\n",
    "data.count()"
   ]
  },
  {
   "cell_type": "code",
   "execution_count": 14,
   "metadata": {},
   "outputs": [
    {
     "data": {
      "text/plain": [
       "'dispatching_base_number,date,active_vehicles,trips'"
      ]
     },
     "execution_count": 14,
     "metadata": {},
     "output_type": "execute_result"
    }
   ],
   "source": [
    "# 打印第一行表头\n",
    "data.first()"
   ]
  },
  {
   "cell_type": "code",
   "execution_count": 13,
   "metadata": {},
   "outputs": [
    {
     "data": {
      "text/plain": [
       "7"
      ]
     },
     "execution_count": 13,
     "metadata": {},
     "output_type": "execute_result"
    }
   ],
   "source": [
    "# 第一个字段去重后计数\n",
    "rows = data.map(lambda line : line.split(','))\n",
    "rows.map(lambda row: row[0]).distinct().count()"
   ]
  },
  {
   "cell_type": "code",
   "execution_count": 16,
   "metadata": {},
   "outputs": [
    {
     "data": {
      "text/plain": [
       "['dispatching_base_number',\n",
       " 'B02765',\n",
       " 'B02682',\n",
       " 'B02598',\n",
       " 'B02512',\n",
       " 'B02764',\n",
       " 'B02617']"
      ]
     },
     "execution_count": 16,
     "metadata": {},
     "output_type": "execute_result"
    }
   ],
   "source": [
    "# 第一个字段去重\n",
    "rows.map(lambda row: row[0]).distinct().collect()"
   ]
  },
  {
   "cell_type": "markdown",
   "metadata": {},
   "source": [
    "# filter"
   ]
  },
  {
   "cell_type": "code",
   "execution_count": 19,
   "metadata": {
    "scrolled": true
   },
   "outputs": [
    {
     "data": {
      "text/plain": [
       "[['B02682', '1/1/2015', '945', '7679'],\n",
       " ['B02682', '1/2/2015', '890', '5506'],\n",
       " ['B02682', '1/3/2015', '915', '8010'],\n",
       " ['B02682', '1/4/2015', '812', '5621'],\n",
       " ['B02682', '1/5/2015', '951', '6012'],\n",
       " ['B02682', '1/6/2015', '1022', '7491'],\n",
       " ['B02682', '1/7/2015', '1039', '9078'],\n",
       " ['B02682', '1/8/2015', '1135', '10416'],\n",
       " ['B02682', '1/9/2015', '1140', '10477'],\n",
       " ['B02682', '1/10/2015', '1057', '11629'],\n",
       " ['B02682', '1/11/2015', '943', '8461'],\n",
       " ['B02682', '1/12/2015', '1082', '9107'],\n",
       " ['B02682', '1/13/2015', '1092', '9629'],\n",
       " ['B02682', '1/14/2015', '1174', '9762'],\n",
       " ['B02682', '1/15/2015', '1208', '10391'],\n",
       " ['B02682', '1/16/2015', '1250', '11280'],\n",
       " ['B02682', '1/17/2015', '1137', '11382'],\n",
       " ['B02682', '1/18/2015', '1056', '11161'],\n",
       " ['B02682', '1/19/2015', '883', '7028'],\n",
       " ['B02682', '1/20/2015', '1151', '8496'],\n",
       " ['B02682', '1/21/2015', '1228', '9472'],\n",
       " ['B02682', '1/22/2015', '1295', '10699'],\n",
       " ['B02682', '1/23/2015', '1330', '11767'],\n",
       " ['B02682', '1/24/2015', '1223', '13355'],\n",
       " ['B02682', '1/25/2015', '1046', '9303'],\n",
       " ['B02682', '1/26/2015', '1084', '7565'],\n",
       " ['B02682', '1/27/2015', '600', '4414'],\n",
       " ['B02682', '1/28/2015', '1235', '10025'],\n",
       " ['B02682', '1/29/2015', '1316', '11485'],\n",
       " ['B02682', '1/30/2015', '1384', '13852'],\n",
       " ['B02682', '1/31/2015', '1321', '15388'],\n",
       " ['B02682', '2/1/2015', '1214', '12436'],\n",
       " ['B02682', '2/2/2015', '1152', '11981'],\n",
       " ['B02682', '2/3/2015', '1269', '11955'],\n",
       " ['B02682', '2/4/2015', '1311', '11309'],\n",
       " ['B02682', '2/5/2015', '1418', '13782'],\n",
       " ['B02682', '2/6/2015', '1414', '14375'],\n",
       " ['B02682', '2/7/2015', '1300', '13450'],\n",
       " ['B02682', '2/8/2015', '1136', '10356'],\n",
       " ['B02682', '2/9/2015', '1241', '10209'],\n",
       " ['B02682', '2/10/2015', '1281', '10536'],\n",
       " ['B02682', '2/11/2015', '1396', '12189'],\n",
       " ['B02682', '2/12/2015', '1468', '13786'],\n",
       " ['B02682', '2/13/2015', '1523', '16088'],\n",
       " ['B02682', '2/14/2015', '1428', '16448'],\n",
       " ['B02682', '2/15/2015', '1261', '14517'],\n",
       " ['B02682', '2/16/2015', '1164', '11323'],\n",
       " ['B02682', '2/17/2015', '1314', '11887'],\n",
       " ['B02682', '2/18/2015', '1314', '11724'],\n",
       " ['B02682', '2/19/2015', '1428', '14591'],\n",
       " ['B02682', '2/20/2015', '1497', '16342'],\n",
       " ['B02682', '2/21/2015', '1374', '16149'],\n",
       " ['B02682', '2/22/2015', '1220', '10970'],\n",
       " ['B02682', '2/23/2015', '1262', '11714'],\n",
       " ['B02682', '2/24/2015', '1346', '12497'],\n",
       " ['B02682', '2/25/2015', '1395', '12693'],\n",
       " ['B02682', '2/26/2015', '1465', '13814'],\n",
       " ['B02682', '2/27/2015', '1510', '14975'],\n",
       " ['B02682', '2/28/2015', '1386', '14472']]"
      ]
     },
     "execution_count": 19,
     "metadata": {},
     "output_type": "execute_result"
    }
   ],
   "source": [
    "# 过滤出dispatching_base_number == 'B02682'的数据\n",
    "# data_2682 = rows.filter(lambda row: row[0] == 'B02765')\n",
    "data_2682 = rows.filter(lambda row: 'B02682' in row)\n",
    "data_2682.collect()"
   ]
  },
  {
   "cell_type": "code",
   "execution_count": 20,
   "metadata": {},
   "outputs": [
    {
     "data": {
      "text/plain": [
       "6"
      ]
     },
     "execution_count": 20,
     "metadata": {},
     "output_type": "execute_result"
    }
   ],
   "source": [
    "data_2617 =rows.filter(lambda row: 'B02617' in row)\n",
    "data_2617.filter(lambda row: int(row[3]) > 15000).count()"
   ]
  },
  {
   "cell_type": "code",
   "execution_count": 23,
   "metadata": {},
   "outputs": [
    {
     "data": {
      "text/plain": [
       "[('B02764', 1914449),\n",
       " ('B02617', 725025),\n",
       " ('B02682', 662509),\n",
       " ('B02598', 540791),\n",
       " ('B02765', 193670),\n",
       " ('B02512', 93786)]"
      ]
     },
     "execution_count": 23,
     "metadata": {},
     "output_type": "execute_result"
    }
   ],
   "source": [
    "# 过滤表头\n",
    "noheader_data = sc.textFile('../data/Uber-Jan-Feb-FOIL.csv').filter(lambda line : 'base' not in line)\n",
    "# 每行逗号分隔\n",
    "noheader_data = noheader_data.map(lambda line: line.split(','))\n",
    "# 计算每个dispatching_base_number，的trip和\n",
    "trip_sum = noheader_data.map(lambda line: (line[0], int(line[3]))).reduceByKey(lambda x,y: x+y)\n",
    "# 从大到小，取前三, 根据value排序\n",
    "sorted_trips = trip_sum.takeOrdered(10, key=lambda x: -x[1])\n",
    "#\n",
    "sorted_trips"
   ]
  },
  {
   "cell_type": "code",
   "execution_count": null,
   "metadata": {},
   "outputs": [],
   "source": []
  }
 ],
 "metadata": {
  "kernelspec": {
   "display_name": "Python 3",
   "language": "python",
   "name": "python3"
  },
  "language_info": {
   "codemirror_mode": {
    "name": "ipython",
    "version": 3
   },
   "file_extension": ".py",
   "mimetype": "text/x-python",
   "name": "python",
   "nbconvert_exporter": "python",
   "pygments_lexer": "ipython3",
   "version": "3.7.2"
  }
 },
 "nbformat": 4,
 "nbformat_minor": 2
}
