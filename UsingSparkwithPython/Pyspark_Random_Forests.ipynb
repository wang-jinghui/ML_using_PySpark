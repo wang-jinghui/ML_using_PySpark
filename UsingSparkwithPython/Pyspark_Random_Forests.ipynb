{
 "cells": [
  {
   "cell_type": "markdown",
   "metadata": {},
   "source": [
    "# Building a Random Forests with PySpark\n",
    "- Decision Tree\n",
    "- Random Forests"
   ]
  },
  {
   "cell_type": "markdown",
   "metadata": {},
   "source": [
    "### DecisionTree\n",
    "- RF的基本组件DT(决策树)\n",
    "- 决策树常用于分类和回归任务\n",
    "- Entropy熵\n",
    "     - Entorpy of target\n",
    "     - Entorpy of target with features\n",
    "- Information Gain 信息增益"
   ]
  },
  {
   "cell_type": "code",
   "execution_count": 1,
   "metadata": {},
   "outputs": [
    {
     "data": {
      "text/html": [
       "<div>\n",
       "<style scoped>\n",
       "    .dataframe tbody tr th:only-of-type {\n",
       "        vertical-align: middle;\n",
       "    }\n",
       "\n",
       "    .dataframe tbody tr th {\n",
       "        vertical-align: top;\n",
       "    }\n",
       "\n",
       "    .dataframe thead th {\n",
       "        text-align: right;\n",
       "    }\n",
       "</style>\n",
       "<table border=\"1\" class=\"dataframe\">\n",
       "  <thead>\n",
       "    <tr style=\"text-align: right;\">\n",
       "      <th></th>\n",
       "      <th>Age_group</th>\n",
       "      <th>Smoker</th>\n",
       "      <th>Medical_condition</th>\n",
       "      <th>Salary_level</th>\n",
       "      <th>insurance_premium</th>\n",
       "    </tr>\n",
       "  </thead>\n",
       "  <tbody>\n",
       "    <tr>\n",
       "      <th>0</th>\n",
       "      <td>old</td>\n",
       "      <td>yes</td>\n",
       "      <td>yes</td>\n",
       "      <td>high</td>\n",
       "      <td>high</td>\n",
       "    </tr>\n",
       "    <tr>\n",
       "      <th>1</th>\n",
       "      <td>teenager</td>\n",
       "      <td>yes</td>\n",
       "      <td>yes</td>\n",
       "      <td>medium</td>\n",
       "      <td>high</td>\n",
       "    </tr>\n",
       "    <tr>\n",
       "      <th>2</th>\n",
       "      <td>young</td>\n",
       "      <td>yes</td>\n",
       "      <td>yes</td>\n",
       "      <td>medium</td>\n",
       "      <td>low</td>\n",
       "    </tr>\n",
       "    <tr>\n",
       "      <th>3</th>\n",
       "      <td>old</td>\n",
       "      <td>no</td>\n",
       "      <td>yes</td>\n",
       "      <td>high</td>\n",
       "      <td>high</td>\n",
       "    </tr>\n",
       "    <tr>\n",
       "      <th>4</th>\n",
       "      <td>young</td>\n",
       "      <td>yes</td>\n",
       "      <td>yes</td>\n",
       "      <td>high</td>\n",
       "      <td>low</td>\n",
       "    </tr>\n",
       "    <tr>\n",
       "      <th>5</th>\n",
       "      <td>teenager</td>\n",
       "      <td>no</td>\n",
       "      <td>yes</td>\n",
       "      <td>low</td>\n",
       "      <td>high</td>\n",
       "    </tr>\n",
       "    <tr>\n",
       "      <th>6</th>\n",
       "      <td>teenager</td>\n",
       "      <td>no</td>\n",
       "      <td>no</td>\n",
       "      <td>low</td>\n",
       "      <td>low</td>\n",
       "    </tr>\n",
       "    <tr>\n",
       "      <th>7</th>\n",
       "      <td>old</td>\n",
       "      <td>no</td>\n",
       "      <td>no</td>\n",
       "      <td>low</td>\n",
       "      <td>high</td>\n",
       "    </tr>\n",
       "    <tr>\n",
       "      <th>8</th>\n",
       "      <td>teenager</td>\n",
       "      <td>no</td>\n",
       "      <td>yes</td>\n",
       "      <td>medium</td>\n",
       "      <td>high</td>\n",
       "    </tr>\n",
       "    <tr>\n",
       "      <th>9</th>\n",
       "      <td>young</td>\n",
       "      <td>no</td>\n",
       "      <td>yes</td>\n",
       "      <td>low</td>\n",
       "      <td>high</td>\n",
       "    </tr>\n",
       "    <tr>\n",
       "      <th>10</th>\n",
       "      <td>young</td>\n",
       "      <td>yes</td>\n",
       "      <td>no</td>\n",
       "      <td>high</td>\n",
       "      <td>low</td>\n",
       "    </tr>\n",
       "    <tr>\n",
       "      <th>11</th>\n",
       "      <td>teenager</td>\n",
       "      <td>yes</td>\n",
       "      <td>no</td>\n",
       "      <td>medium</td>\n",
       "      <td>low</td>\n",
       "    </tr>\n",
       "    <tr>\n",
       "      <th>12</th>\n",
       "      <td>young</td>\n",
       "      <td>no</td>\n",
       "      <td>no</td>\n",
       "      <td>medium</td>\n",
       "      <td>high</td>\n",
       "    </tr>\n",
       "    <tr>\n",
       "      <th>13</th>\n",
       "      <td>old</td>\n",
       "      <td>yes</td>\n",
       "      <td>no</td>\n",
       "      <td>medium</td>\n",
       "      <td>high</td>\n",
       "    </tr>\n",
       "  </tbody>\n",
       "</table>\n",
       "</div>"
      ],
      "text/plain": [
       "   Age_group Smoker Medical_condition Salary_level insurance_premium\n",
       "0        old    yes               yes         high              high\n",
       "1   teenager    yes               yes       medium              high\n",
       "2      young    yes               yes       medium               low\n",
       "3        old     no               yes         high              high\n",
       "4      young    yes               yes         high               low\n",
       "5   teenager     no               yes          low              high\n",
       "6   teenager     no                no          low               low\n",
       "7        old     no                no          low              high\n",
       "8   teenager     no               yes       medium              high\n",
       "9      young     no               yes          low              high\n",
       "10     young    yes                no         high               low\n",
       "11  teenager    yes                no       medium               low\n",
       "12     young     no                no       medium              high\n",
       "13       old    yes                no       medium              high"
      ]
     },
     "execution_count": 1,
     "metadata": {},
     "output_type": "execute_result"
    }
   ],
   "source": [
    "# example dataset\n",
    "import pandas as pd\n",
    "toy_data = pd.DataFrame({'Age_group':\n",
    "                         ['old', 'teenager', 'young', 'old', 'young', 'teenager', 'teenager', 'old', 'teenager', 'young', 'young','teenager','young','old'],\n",
    "                         'Smoker':['yes', 'yes', 'yes', 'no', 'yes', 'no', 'no', 'no', 'no', 'no', 'yes', 'yes' ,'no', 'yes'],\n",
    "                         'Medical_condition':['yes','yes','yes','yes','yes','yes','no','no','yes','yes','no','no','no','no'],\n",
    "                         'Salary_level':['high','medium','medium','high','high','low','low','low','medium','low','high','medium','medium','medium'],\n",
    "                         'insurance_premium':['high','high','low','high','low','high','low','high','high','high','low','low','high','high']\n",
    "                        })\n",
    "toy_data"
   ]
  },
  {
   "cell_type": "markdown",
   "metadata": {},
   "source": [
    "### Entropy\n",
    "\n",
    "$$ -P*log_{2}P-Q*log_{2}Q$$"
   ]
  },
  {
   "cell_type": "markdown",
   "metadata": {},
   "source": [
    "#### 计算 Entropy of target\n",
    "- target column : insurance_premium\n",
    "     - high    9\n",
    "     - low     5\n",
    "- probability high : 9/14 = 0.64\n",
    "- probability low  : 4/15 = 0.36\n",
    "\n",
    "$EntropyTarget   = -P(high)log_2(P(high) - P(low)log_2(P(low)) $\n",
    "\n",
    "$=-(0.64*log_2(0.64)) - (0.36*log_2(0.36))         $\n",
    "\n",
    "$=0.94 $"
   ]
  },
  {
   "cell_type": "markdown",
   "metadata": {},
   "source": [
    "### 计算Entropy of target with features\n",
    "\n",
    "$$ Entropy(feature|target) = Probability(feature) * Entropy(target) $$\n",
    "\n",
    "- feature : smoker\n",
    "     - yes :  high 3, low 4\n",
    "     - no  :  high 6, low 1\n",
    "\n",
    "$$ Entropy_{(smoker)} = P_{yes} * EntropyTarget_{(smoker=yes)} + P_{no} * EntropyTarget_{(smoker=no)} $$\n",
    "\n",
    "$$ P_{yes} = \\frac{7}{14} = 0.5 $$\n",
    "\n",
    "$$ P_{no} = \\frac{7}{14} = 0.5  $$\n",
    "\n",
    "$$ EntropyTarget_{(somker=yes)} =- \\frac{3}{7} * log_2 \\big( \\frac{3}{7}\\big) - \\frac{4}{7} * log_2\\big(\\frac{4}{7}\\big)$$\n",
    "\n",
    "$$ EntropyTarget_{(somker=yes)} = 0.99 $$\n",
    "\n",
    "$$ EntropyTarget_{(somker=no)} = -\\frac{6}{7} * log_2\\big(\\frac{6}{7}\\big) - \\frac{1}{7} * log_2\\big(\\frac{1}{7}\\big)$$\n",
    "\n",
    "$$ EntropyTarget_{(somker=no)} = 0.59 $$\n",
    "\n",
    "$$ Entropy_{(smoker)} = 0.5 *  0.99 +0.5 * 0.59 = 0.79 $$\n",
    "\n",
    "#### 其他特征的计算方法同上：\n",
    "\n",
    "- Entropy(smoker) = 0.79\n",
    "- Entropy(age_group) = 0.69\n",
    "- Entropy(medical_condition) = 89\n",
    "- Entropy(salary_level) = 0.91"
   ]
  },
  {
   "cell_type": "markdown",
   "metadata": {},
   "source": [
    "### Information Gain ( IG )\n",
    "\n",
    "$$ IG = Entropy_{target} - Entropy_{feature} $$\n",
    "\n",
    "$$ IG_{smoker} = 0.94 - 0.79 = 0.15 $$\n",
    "\n",
    "#### 其他特征IG计算方法同上：\n",
    "\n",
    "- IG(smoker) = 0.15\n",
    "- IG(age_group) = 0.25\n",
    "- IG(medical_condition) = 0.05\n",
    "- IG(salary_level) = 0.03\n",
    "\n",
    "很明显，age_group这个特征拥有最大的信息增益，因此决策树的根节点就从age_group开始，将数据集分为三部分：\n",
    "- toy_data(age_group == teenager)\n",
    "- toy_data(age_group == young)\n",
    "- toy_data(age_group == old)\n",
    "\n",
    "然后，在以上的三个数据的子集上递归的执行以上的计算，寻找信息增益最大的特征，分裂下去，直到不能继续为止。"
   ]
  },
  {
   "cell_type": "markdown",
   "metadata": {},
   "source": [
    "### Random Forests\n",
    "\n",
    "      了解了决策树的计算过程，接下来开始随机森林。顾名思义，随机森林就是由多颗决策树组成的，它将多棵决策树的结果组合起来做最终的预测输出，这种方法很有效，随机森林的准确率总是优于单棵树的结果。\n",
    "\n",
    "### 组合策略：\n",
    "\n",
    "- 回归：平均，加权平均\n",
    "- 分类：投票\n",
    "\n",
    "### 随机森林的特点：\n",
    "\n",
    "- 特征的重要性：特征选择\n",
    "- 性能提升：>> 决策树\n",
    "- 减少过拟合\n",
    "- 计算开销增加：训练多棵决策树"
   ]
  },
  {
   "cell_type": "markdown",
   "metadata": {},
   "source": [
    "### Let's build a random forest model using spark's MLlib\n",
    "\n",
    "- create a sparksession & load dataset\n",
    "- eda\n",
    "- feature engineering\n",
    "- splitting train/test set\n",
    "- building & training model\n",
    "- evaluation"
   ]
  },
  {
   "cell_type": "markdown",
   "metadata": {},
   "source": [
    "#### sparksession & loaddata"
   ]
  },
  {
   "cell_type": "code",
   "execution_count": 34,
   "metadata": {},
   "outputs": [],
   "source": [
    "from pyspark.sql import SparkSession\n",
    "spark = SparkSession.builder.appName('random_forest').getOrCreate()\n",
    "\n",
    "# load data\n",
    "df = spark.read.csv('./Data/affairs.csv', inferSchema=True, header=True)"
   ]
  },
  {
   "cell_type": "markdown",
   "metadata": {},
   "source": [
    "#### eda"
   ]
  },
  {
   "cell_type": "code",
   "execution_count": 3,
   "metadata": {},
   "outputs": [
    {
     "name": "stdout",
     "output_type": "stream",
     "text": [
      "(6366, 6)\n"
     ]
    }
   ],
   "source": [
    "print((df.count(), len(df.columns)))"
   ]
  },
  {
   "cell_type": "code",
   "execution_count": 4,
   "metadata": {},
   "outputs": [
    {
     "name": "stdout",
     "output_type": "stream",
     "text": [
      "root\n",
      " |-- rate_marriage: integer (nullable = true)\n",
      " |-- age: double (nullable = true)\n",
      " |-- yrs_married: double (nullable = true)\n",
      " |-- children: double (nullable = true)\n",
      " |-- religious: integer (nullable = true)\n",
      " |-- affairs: integer (nullable = true)\n",
      "\n"
     ]
    }
   ],
   "source": [
    "df.printSchema()"
   ]
  },
  {
   "cell_type": "code",
   "execution_count": 5,
   "metadata": {},
   "outputs": [
    {
     "name": "stdout",
     "output_type": "stream",
     "text": [
      "+-------------+----+-----------+--------+---------+-------+\n",
      "|rate_marriage|age |yrs_married|children|religious|affairs|\n",
      "+-------------+----+-----------+--------+---------+-------+\n",
      "|5            |32.0|6.0        |1.0     |3        |0      |\n",
      "|4            |22.0|2.5        |0.0     |2        |0      |\n",
      "|3            |32.0|9.0        |3.0     |3        |1      |\n",
      "|3            |27.0|13.0       |3.0     |1        |1      |\n",
      "|4            |22.0|2.5        |0.0     |1        |1      |\n",
      "+-------------+----+-----------+--------+---------+-------+\n",
      "only showing top 5 rows\n",
      "\n"
     ]
    }
   ],
   "source": [
    "df.show(5, False)"
   ]
  },
  {
   "cell_type": "code",
   "execution_count": 6,
   "metadata": {},
   "outputs": [
    {
     "name": "stdout",
     "output_type": "stream",
     "text": [
      "+-------+------------------+------------------+-----------------+------------------+------------------+------------------+\n",
      "|summary|     rate_marriage|               age|      yrs_married|          children|         religious|           affairs|\n",
      "+-------+------------------+------------------+-----------------+------------------+------------------+------------------+\n",
      "|  count|              6366|              6366|             6366|              6366|              6366|              6366|\n",
      "|   mean| 4.109644989004084|29.082862079798932| 9.00942507068803|1.3968740182218033|2.4261702796104303|0.3224945020420987|\n",
      "| stddev|0.9614295945655025| 6.847881883668817|7.280119972766412| 1.433470828560344|0.8783688402641785| 0.467467779921086|\n",
      "|    min|                 1|              17.5|              0.5|               0.0|                 1|                 0|\n",
      "|    max|                 5|              42.0|             23.0|               5.5|                 4|                 1|\n",
      "+-------+------------------+------------------+-----------------+------------------+------------------+------------------+\n",
      "\n"
     ]
    }
   ],
   "source": [
    "df.describe().show()"
   ]
  },
  {
   "cell_type": "code",
   "execution_count": 9,
   "metadata": {},
   "outputs": [
    {
     "name": "stdout",
     "output_type": "stream",
     "text": [
      "+-------+-----+\n",
      "|affairs|count|\n",
      "+-------+-----+\n",
      "|      1| 2053|\n",
      "|      0| 4313|\n",
      "+-------+-----+\n",
      "\n"
     ]
    }
   ],
   "source": [
    "df.groupBy('affairs').count().show()         # 有外遇约30%"
   ]
  },
  {
   "cell_type": "code",
   "execution_count": 10,
   "metadata": {},
   "outputs": [
    {
     "name": "stdout",
     "output_type": "stream",
     "text": [
      "+-------------+-----+\n",
      "|rate_marriage|count|\n",
      "+-------------+-----+\n",
      "|            1|   99|\n",
      "|            3|  993|\n",
      "|            5| 2684|\n",
      "|            4| 2242|\n",
      "|            2|  348|\n",
      "+-------------+-----+\n",
      "\n"
     ]
    }
   ],
   "source": [
    "df.groupBy('rate_marriage').count().show()    # 大多数人给她们的婚姻打4、5分"
   ]
  },
  {
   "cell_type": "code",
   "execution_count": 16,
   "metadata": {},
   "outputs": [
    {
     "name": "stdout",
     "output_type": "stream",
     "text": [
      "+-------------+-------+-----+\n",
      "|rate_marriage|affairs|count|\n",
      "+-------------+-------+-----+\n",
      "|            1|      0|   25|\n",
      "|            1|      1|   74|\n",
      "|            2|      0|  127|\n",
      "|            2|      1|  221|\n",
      "|            3|      0|  446|\n",
      "|            3|      1|  547|\n",
      "|            4|      0| 1518|\n",
      "|            4|      1|  724|\n",
      "|            5|      0| 2197|\n",
      "|            5|      1|  487|\n",
      "+-------------+-------+-----+\n",
      "\n"
     ]
    }
   ],
   "source": [
    "# 不同分数，婚外情情况\n",
    "temp_df = df.groupBy('rate_marriage', 'affairs').count().orderBy('rate_marriage','affairs','count', ascending=True)\n",
    "\n",
    "temp_df.show()"
   ]
  },
  {
   "cell_type": "code",
   "execution_count": 18,
   "metadata": {},
   "outputs": [
    {
     "name": "stdout",
     "output_type": "stream",
     "text": [
      "+-------------+-------+-----+\n",
      "|rate_marriage|affairs|count|\n",
      "+-------------+-------+-----+\n",
      "|            1|      1|   74|\n",
      "|            2|      1|  221|\n",
      "|            3|      1|  547|\n",
      "|            4|      1|  724|\n",
      "|            5|      1|  487|\n",
      "+-------------+-------+-----+\n",
      "\n"
     ]
    }
   ],
   "source": [
    "# 不同分数，有外遇的人数\n",
    "temp_df = temp_df.filter(temp_df.affairs==1)\n",
    "\n",
    "temp_df.show()"
   ]
  },
  {
   "cell_type": "code",
   "execution_count": 22,
   "metadata": {
    "scrolled": true
   },
   "outputs": [
    {
     "name": "stdout",
     "output_type": "stream",
     "text": [
      "+-------------+-----+\n",
      "|rate_marriage|count|\n",
      "+-------------+-----+\n",
      "|            1|   99|\n",
      "|            3|  993|\n",
      "|            5| 2684|\n",
      "|            4| 2242|\n",
      "|            2|  348|\n",
      "+-------------+-----+\n",
      "\n"
     ]
    }
   ],
   "source": [
    "# 不同分数，总人数\n",
    "temp_2 = df.groupBy('rate_marriage').count()\n",
    "temp_2.show()"
   ]
  },
  {
   "cell_type": "code",
   "execution_count": 28,
   "metadata": {},
   "outputs": [
    {
     "name": "stdout",
     "output_type": "stream",
     "text": [
      "+---------+-------+-----+\n",
      "|religious|affairs|count|\n",
      "+---------+-------+-----+\n",
      "|        1|      0|  613|\n",
      "|        1|      1|  408|\n",
      "|        2|      0| 1448|\n",
      "|        2|      1|  819|\n",
      "|        3|      0| 1715|\n",
      "|        3|      1|  707|\n",
      "|        4|      0|  537|\n",
      "|        4|      1|  119|\n",
      "+---------+-------+-----+\n",
      "\n"
     ]
    }
   ],
   "source": [
    "# religious\n",
    "df.groupBy('religious', 'affairs').count().orderBy('religious', 'affairs', 'count', ascending=True).show()"
   ]
  },
  {
   "cell_type": "code",
   "execution_count": 29,
   "metadata": {},
   "outputs": [
    {
     "name": "stdout",
     "output_type": "stream",
     "text": [
      "+--------+-------+-----+\n",
      "|children|affairs|count|\n",
      "+--------+-------+-----+\n",
      "|     0.0|      0| 1912|\n",
      "|     0.0|      1|  502|\n",
      "|     1.0|      0|  747|\n",
      "|     1.0|      1|  412|\n",
      "|     2.0|      0|  873|\n",
      "|     2.0|      1|  608|\n",
      "|     3.0|      0|  460|\n",
      "|     3.0|      1|  321|\n",
      "|     4.0|      0|  197|\n",
      "|     4.0|      1|  131|\n",
      "|     5.5|      0|  124|\n",
      "|     5.5|      1|   79|\n",
      "+--------+-------+-----+\n",
      "\n"
     ]
    }
   ],
   "source": [
    "# children\n",
    "df.groupBy('children', 'affairs').count().orderBy('children', 'affairs', 'count', ascending=True).show()"
   ]
  },
  {
   "cell_type": "code",
   "execution_count": 30,
   "metadata": {},
   "outputs": [
    {
     "name": "stdout",
     "output_type": "stream",
     "text": [
      "+-------+------------------+------------------+------------------+------------------+------------------+------------+\n",
      "|affairs|avg(rate_marriage)|          avg(age)|  avg(yrs_married)|     avg(children)|    avg(religious)|avg(affairs)|\n",
      "+-------+------------------+------------------+------------------+------------------+------------------+------------+\n",
      "|      1|3.6473453482708234|30.537018996590355|11.152459814905017|1.7289332683877252| 2.261568436434486|         1.0|\n",
      "|      0| 4.329700904242986| 28.39067934152562| 7.989334569904939|1.2388128912589844|2.5045212149316023|         0.0|\n",
      "+-------+------------------+------------------+------------------+------------------+------------------+------------+\n",
      "\n"
     ]
    }
   ],
   "source": [
    "df.groupBy('affairs').mean().show()"
   ]
  },
  {
   "cell_type": "markdown",
   "metadata": {},
   "source": [
    "### create feature data"
   ]
  },
  {
   "cell_type": "code",
   "execution_count": 35,
   "metadata": {},
   "outputs": [
    {
     "name": "stdout",
     "output_type": "stream",
     "text": [
      "+-------------+----+-----------+--------+---------+-------+--------------------+\n",
      "|rate_marriage| age|yrs_married|children|religious|affairs|            features|\n",
      "+-------------+----+-----------+--------+---------+-------+--------------------+\n",
      "|            5|32.0|        6.0|     1.0|        3|      0|[5.0,32.0,6.0,1.0...|\n",
      "|            4|22.0|        2.5|     0.0|        2|      0|[4.0,22.0,2.5,0.0...|\n",
      "|            3|32.0|        9.0|     3.0|        3|      1|[3.0,32.0,9.0,3.0...|\n",
      "|            3|27.0|       13.0|     3.0|        1|      1|[3.0,27.0,13.0,3....|\n",
      "|            4|22.0|        2.5|     0.0|        1|      1|[4.0,22.0,2.5,0.0...|\n",
      "+-------------+----+-----------+--------+---------+-------+--------------------+\n",
      "only showing top 5 rows\n",
      "\n"
     ]
    }
   ],
   "source": [
    "from pyspark.ml.feature import VectorAssembler\n",
    "\n",
    "df_assembler = VectorAssembler(inputCols=['rate_marriage', 'age', 'yrs_married', 'children', 'religious'], outputCol='features')\n",
    "\n",
    "df = df_assembler.transform(df)\n",
    "\n",
    "df.show(5)"
   ]
  },
  {
   "cell_type": "code",
   "execution_count": 36,
   "metadata": {},
   "outputs": [
    {
     "name": "stdout",
     "output_type": "stream",
     "text": [
      "+--------------------+-------+\n",
      "|            features|affairs|\n",
      "+--------------------+-------+\n",
      "|[5.0,32.0,6.0,1.0...|      0|\n",
      "|[4.0,22.0,2.5,0.0...|      0|\n",
      "|[3.0,32.0,9.0,3.0...|      1|\n",
      "|[3.0,27.0,13.0,3....|      1|\n",
      "|[4.0,22.0,2.5,0.0...|      1|\n",
      "+--------------------+-------+\n",
      "only showing top 5 rows\n",
      "\n"
     ]
    }
   ],
   "source": [
    "df.select(['features', 'affairs']).show(5)"
   ]
  },
  {
   "cell_type": "code",
   "execution_count": 37,
   "metadata": {},
   "outputs": [],
   "source": [
    "data = df.select(['features', 'affairs'])"
   ]
  },
  {
   "cell_type": "markdown",
   "metadata": {},
   "source": [
    "### splitting train\\test set"
   ]
  },
  {
   "cell_type": "code",
   "execution_count": 38,
   "metadata": {},
   "outputs": [
    {
     "name": "stdout",
     "output_type": "stream",
     "text": [
      "train set (4784, 2)\n",
      "test set (1582, 2)\n"
     ]
    }
   ],
   "source": [
    "train_df , test_df = data.randomSplit([0.75, 0.25])\n",
    "print('train set (%d, %d)'%(train_df.count(), len(train_df.columns)))\n",
    "print('test set (%d, %d)'%(test_df.count(), len(test_df.columns)))"
   ]
  },
  {
   "cell_type": "markdown",
   "metadata": {},
   "source": [
    "### build model\n",
    "\n",
    "- Logistic Regression VS Random Forests"
   ]
  },
  {
   "cell_type": "code",
   "execution_count": 43,
   "metadata": {},
   "outputs": [],
   "source": [
    "from pyspark.ml.classification import RandomForestClassifier,LogisticRegression, DecisionTreeClassifier\n",
    "\n",
    "rf = RandomForestClassifier(labelCol='affairs', numTrees=50).fit(train_df)\n",
    "\n",
    "lr = LogisticRegression(labelCol='affairs').fit(train_df)\n",
    "\n",
    "dt = DecisionTreeClassifier(labelCol='affairs').fit(train_df)\n",
    "\n",
    "rf_pred = rf.transform(test_df)\n",
    "\n",
    "lr_pred = lr.transform(test_df)\n",
    "\n",
    "dt_pred = dt.transform(test_df)"
   ]
  },
  {
   "cell_type": "markdown",
   "metadata": {},
   "source": [
    "### Evaluation\n",
    "\n",
    "- Accuracy\n",
    "- Precision\n",
    "- AUC"
   ]
  },
  {
   "cell_type": "code",
   "execution_count": 44,
   "metadata": {},
   "outputs": [
    {
     "name": "stdout",
     "output_type": "stream",
     "text": [
      "RF's accuracy is 0.727560\n",
      "LR's accuracy is 0.724399\n",
      "DT's accuracy is 0.719343\n"
     ]
    }
   ],
   "source": [
    "from pyspark.ml.evaluation import MulticlassClassificationEvaluator\n",
    "from pyspark.ml.evaluation import BinaryClassificationEvaluator      #auc\n",
    "\n",
    "rf_accuracy = MulticlassClassificationEvaluator(labelCol='affairs', metricName='accuracy').evaluate(rf_pred)\n",
    "print(\"RF's accuracy is %f\"%rf_accuracy)\n",
    "lr_accuracy = MulticlassClassificationEvaluator(labelCol='affairs', metricName='accuracy').evaluate(lr_pred)\n",
    "print(\"LR's accuracy is %f\"%lr_accuracy)\n",
    "dt_accuracy= MulticlassClassificationEvaluator(labelCol='affairs', metricName='accuracy').evaluate(dt_pred)\n",
    "print(\"DT's accuracy is %f\"%dt_accuracy)"
   ]
  },
  {
   "cell_type": "code",
   "execution_count": 46,
   "metadata": {},
   "outputs": [
    {
     "name": "stdout",
     "output_type": "stream",
     "text": [
      "RF's precision is 0.709906\n",
      "LR's precision is 0.706239\n",
      "DT's precision is 0.707323\n"
     ]
    }
   ],
   "source": [
    "rf_precision = MulticlassClassificationEvaluator(labelCol='affairs', metricName='weightedPrecision').evaluate(rf_pred)\n",
    "print(\"RF's precision is %f\"%rf_precision)\n",
    "lr_precision = MulticlassClassificationEvaluator(labelCol='affairs', metricName='weightedPrecision').evaluate(lr_pred)\n",
    "print(\"LR's precision is %f\"%lr_precision)\n",
    "dt_precision= MulticlassClassificationEvaluator(labelCol='affairs', metricName='weightedPrecision').evaluate(dt_pred)\n",
    "print(\"DT's precision is %f\"%dt_precision)"
   ]
  },
  {
   "cell_type": "code",
   "execution_count": 47,
   "metadata": {},
   "outputs": [
    {
     "name": "stdout",
     "output_type": "stream",
     "text": [
      "RF's precision is 0.752915\n",
      "LR's precision is 0.745961\n",
      "DT's precision is 0.609049\n"
     ]
    }
   ],
   "source": [
    "rf_auc = BinaryClassificationEvaluator(labelCol='affairs').evaluate(rf_pred)\n",
    "print(\"RF's precision is %f\"%rf_auc)\n",
    "lr_auc = BinaryClassificationEvaluator(labelCol='affairs').evaluate(lr_pred)\n",
    "print(\"LR's precision is %f\"%lr_auc)\n",
    "dt_auc= BinaryClassificationEvaluator(labelCol='affairs').evaluate(dt_pred)\n",
    "print(\"DT's precision is %f\"%dt_auc)"
   ]
  },
  {
   "cell_type": "markdown",
   "metadata": {},
   "source": [
    "#### feature importances"
   ]
  },
  {
   "cell_type": "code",
   "execution_count": 54,
   "metadata": {},
   "outputs": [
    {
     "data": {
      "text/plain": [
       "SparseVector(5, {0: 0.5652, 1: 0.0286, 2: 0.2444, 3: 0.0781, 4: 0.0836})"
      ]
     },
     "execution_count": 54,
     "metadata": {},
     "output_type": "execute_result"
    }
   ],
   "source": [
    "rf.featureImportances"
   ]
  },
  {
   "cell_type": "code",
   "execution_count": 55,
   "metadata": {},
   "outputs": [
    {
     "data": {
      "text/plain": [
       "{'numeric': [{'idx': 0, 'name': 'rate_marriage'},\n",
       "  {'idx': 1, 'name': 'age'},\n",
       "  {'idx': 2, 'name': 'yrs_married'},\n",
       "  {'idx': 3, 'name': 'children'},\n",
       "  {'idx': 4, 'name': 'religious'}]}"
      ]
     },
     "execution_count": 55,
     "metadata": {},
     "output_type": "execute_result"
    }
   ],
   "source": [
    "df.schema['features'].metadata['ml_attr']['attrs']"
   ]
  },
  {
   "cell_type": "markdown",
   "metadata": {},
   "source": [
    "### save model  & load model"
   ]
  },
  {
   "cell_type": "code",
   "execution_count": 56,
   "metadata": {},
   "outputs": [],
   "source": [
    "from pyspark.ml.classification import RandomForestClassificationModel\n",
    "\n",
    "# save model\n",
    "rf.save('./RF_model')"
   ]
  },
  {
   "cell_type": "code",
   "execution_count": null,
   "metadata": {},
   "outputs": [],
   "source": [
    "# load model\n",
    "rf_model = RandomForestClassificationModel.load('./RF_model')\n",
    "resutl = rf_model.transform(new_df)"
   ]
  }
 ],
 "metadata": {
  "kernelspec": {
   "display_name": "Python 3",
   "language": "python",
   "name": "python3"
  },
  "language_info": {
   "codemirror_mode": {
    "name": "ipython",
    "version": 3
   },
   "file_extension": ".py",
   "mimetype": "text/x-python",
   "name": "python",
   "nbconvert_exporter": "python",
   "pygments_lexer": "ipython3",
   "version": "3.7.2"
  }
 },
 "nbformat": 4,
 "nbformat_minor": 2
}
