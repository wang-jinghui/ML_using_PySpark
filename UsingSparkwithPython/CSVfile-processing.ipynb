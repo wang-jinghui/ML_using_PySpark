{
 "cells": [
  {
   "cell_type": "markdown",
   "metadata": {},
   "source": [
    "# data processing using pyspark"
   ]
  },
  {
   "cell_type": "code",
   "execution_count": 2,
   "metadata": {},
   "outputs": [],
   "source": [
    "from pyspark.sql import SparkSession\n",
    "from pyspark.sql.functions import udf\n",
    "from pyspark.sql.types import StringType, DoubleType, IntegerType\n",
    "from pyspark.sql.functions import pandas_udf, PandasUDFType"
   ]
  },
  {
   "cell_type": "markdown",
   "metadata": {},
   "source": [
    "## read.csv()"
   ]
  },
  {
   "cell_type": "code",
   "execution_count": 3,
   "metadata": {},
   "outputs": [],
   "source": [
    "# 创建sparkSession对象\n",
    "# 应用名 'data_processing', 会在spark web UI中显示\n",
    "spark = SparkSession.builder.appName('data_processing').getOrCreate()\n",
    "# read csv file\n",
    "# inferSchema : 从输入的数据自动推断数据类型\n",
    "# header : 是否使用第一行作为列名\n",
    "df = spark.read.csv('./Data/sample_data.csv', inferSchema=True, header=True)"
   ]
  },
  {
   "cell_type": "markdown",
   "metadata": {},
   "source": [
    "## columns"
   ]
  },
  {
   "cell_type": "code",
   "execution_count": 4,
   "metadata": {},
   "outputs": [
    {
     "data": {
      "text/plain": [
       "['ratings', 'age', 'experience', 'family', 'mobile']"
      ]
     },
     "execution_count": 4,
     "metadata": {},
     "output_type": "execute_result"
    }
   ],
   "source": [
    "df.columns"
   ]
  },
  {
   "cell_type": "code",
   "execution_count": 5,
   "metadata": {},
   "outputs": [
    {
     "data": {
      "text/plain": [
       "5"
      ]
     },
     "execution_count": 5,
     "metadata": {},
     "output_type": "execute_result"
    }
   ],
   "source": [
    "len(df.columns)"
   ]
  },
  {
   "cell_type": "code",
   "execution_count": 6,
   "metadata": {},
   "outputs": [
    {
     "data": {
      "text/plain": [
       "33"
      ]
     },
     "execution_count": 6,
     "metadata": {},
     "output_type": "execute_result"
    }
   ],
   "source": [
    "df.count()      # 行数"
   ]
  },
  {
   "cell_type": "code",
   "execution_count": 8,
   "metadata": {},
   "outputs": [
    {
     "name": "stdout",
     "output_type": "stream",
     "text": [
      "(33, 5)\n"
     ]
    }
   ],
   "source": [
    "# pyspark's dataframe's shape\n",
    "print((df.count(), len(df.columns)))  "
   ]
  },
  {
   "cell_type": "markdown",
   "metadata": {},
   "source": [
    "## printSchema()"
   ]
  },
  {
   "cell_type": "code",
   "execution_count": 9,
   "metadata": {},
   "outputs": [
    {
     "name": "stdout",
     "output_type": "stream",
     "text": [
      "root\n",
      " |-- ratings: integer (nullable = true)\n",
      " |-- age: integer (nullable = true)\n",
      " |-- experience: double (nullable = true)\n",
      " |-- family: integer (nullable = true)\n",
      " |-- mobile: string (nullable = true)\n",
      "\n"
     ]
    }
   ],
   "source": [
    "# 数据类型类似于pandas df.info()\n",
    "df.printSchema()"
   ]
  },
  {
   "cell_type": "markdown",
   "metadata": {},
   "source": [
    "## show()"
   ]
  },
  {
   "cell_type": "code",
   "execution_count": 23,
   "metadata": {},
   "outputs": [
    {
     "name": "stdout",
     "output_type": "stream",
     "text": [
      "+-------+---+----------+------+-------+\n",
      "|ratings|age|experience|family| mobile|\n",
      "+-------+---+----------+------+-------+\n",
      "|      3| 32|       9.0|     3|   Vivo|\n",
      "|      3| 27|      13.0|     3|  Apple|\n",
      "|      4| 22|       2.5|     0|Samsung|\n",
      "|      4| 37|      16.5|     4|  Apple|\n",
      "|      5| 27|       9.0|     1|     MI|\n",
      "+-------+---+----------+------+-------+\n",
      "only showing top 5 rows\n",
      "\n"
     ]
    }
   ],
   "source": [
    "# 输出前5行，类似于pandas ,df.head(5)\n",
    "df.show(5)"
   ]
  },
  {
   "cell_type": "markdown",
   "metadata": {},
   "source": [
    "## select()"
   ]
  },
  {
   "cell_type": "code",
   "execution_count": 11,
   "metadata": {},
   "outputs": [
    {
     "name": "stdout",
     "output_type": "stream",
     "text": [
      "+---+-------+\n",
      "|age| mobile|\n",
      "+---+-------+\n",
      "| 32|   Vivo|\n",
      "| 27|  Apple|\n",
      "| 22|Samsung|\n",
      "| 37|  Apple|\n",
      "| 27|     MI|\n",
      "+---+-------+\n",
      "only showing top 5 rows\n",
      "\n"
     ]
    }
   ],
   "source": [
    "# only show age and mobile\n",
    "df.select('age', 'mobile').show(5)"
   ]
  },
  {
   "cell_type": "markdown",
   "metadata": {},
   "source": [
    "## describe()"
   ]
  },
  {
   "cell_type": "code",
   "execution_count": 12,
   "metadata": {},
   "outputs": [
    {
     "name": "stdout",
     "output_type": "stream",
     "text": [
      "+-------+------------------+------------------+------------------+------------------+------+\n",
      "|summary|           ratings|               age|        experience|            family|mobile|\n",
      "+-------+------------------+------------------+------------------+------------------+------+\n",
      "|  count|                33|                33|                33|                33|    33|\n",
      "|   mean|3.5757575757575757|30.484848484848484|10.303030303030303|1.8181818181818181|  null|\n",
      "| stddev|1.1188806636071336|  6.18527087180309| 6.770731351213326|1.8448330794164254|  null|\n",
      "|    min|                 1|                22|               2.5|                 0| Apple|\n",
      "|    max|                 5|                42|              23.0|                 5|  Vivo|\n",
      "+-------+------------------+------------------+------------------+------------------+------+\n",
      "\n"
     ]
    }
   ],
   "source": [
    "# descirbe()\n",
    "df.describe().show()"
   ]
  },
  {
   "cell_type": "markdown",
   "metadata": {},
   "source": [
    "## withColumn() : add new column or change type"
   ]
  },
  {
   "cell_type": "code",
   "execution_count": 16,
   "metadata": {},
   "outputs": [
    {
     "name": "stdout",
     "output_type": "stream",
     "text": [
      "+-------+---+----------+------+-------+----------+\n",
      "|ratings|age|experience|family|mobile |age_add_10|\n",
      "+-------+---+----------+------+-------+----------+\n",
      "|3      |32 |9.0       |3     |Vivo   |42        |\n",
      "|3      |27 |13.0      |3     |Apple  |37        |\n",
      "|4      |22 |2.5       |0     |Samsung|32        |\n",
      "|4      |37 |16.5      |4     |Apple  |47        |\n",
      "|5      |27 |9.0       |1     |MI     |37        |\n",
      "|4      |27 |9.0       |0     |Oppo   |37        |\n",
      "|5      |37 |23.0      |5     |Vivo   |47        |\n",
      "|5      |37 |23.0      |5     |Samsung|47        |\n",
      "|3      |22 |2.5       |0     |Apple  |32        |\n",
      "|3      |27 |6.0       |0     |MI     |37        |\n",
      "+-------+---+----------+------+-------+----------+\n",
      "only showing top 10 rows\n",
      "\n"
     ]
    }
   ],
   "source": [
    "# 增加新列, 返回新的df, 并不修改df本身\n",
    "df.withColumn('age_add_10', (df['age']+10)).show(10, False)    # False 左对齐"
   ]
  },
  {
   "cell_type": "code",
   "execution_count": 18,
   "metadata": {},
   "outputs": [
    {
     "name": "stdout",
     "output_type": "stream",
     "text": [
      "+-------+---+----------+------+-------+----------+\n",
      "|ratings|age|experience|family| mobile|age_double|\n",
      "+-------+---+----------+------+-------+----------+\n",
      "|      3| 32|       9.0|     3|   Vivo|      32.0|\n",
      "|      3| 27|      13.0|     3|  Apple|      27.0|\n",
      "|      4| 22|       2.5|     0|Samsung|      22.0|\n",
      "|      4| 37|      16.5|     4|  Apple|      37.0|\n",
      "|      5| 27|       9.0|     1|     MI|      27.0|\n",
      "|      4| 27|       9.0|     0|   Oppo|      27.0|\n",
      "|      5| 37|      23.0|     5|   Vivo|      37.0|\n",
      "|      5| 37|      23.0|     5|Samsung|      37.0|\n",
      "|      3| 22|       2.5|     0|  Apple|      22.0|\n",
      "|      3| 27|       6.0|     0|     MI|      27.0|\n",
      "+-------+---+----------+------+-------+----------+\n",
      "only showing top 10 rows\n",
      "\n"
     ]
    }
   ],
   "source": [
    "# dataframe 类型转换\n",
    "df.withColumn('age_double', df['age'].cast(DoubleType())).show(10)"
   ]
  },
  {
   "cell_type": "markdown",
   "metadata": {},
   "source": [
    "## filter()"
   ]
  },
  {
   "cell_type": "code",
   "execution_count": 19,
   "metadata": {},
   "outputs": [
    {
     "name": "stdout",
     "output_type": "stream",
     "text": [
      "+-------+---+----------+------+------+\n",
      "|ratings|age|experience|family|mobile|\n",
      "+-------+---+----------+------+------+\n",
      "|      3| 32|       9.0|     3|  Vivo|\n",
      "|      5| 37|      23.0|     5|  Vivo|\n",
      "|      4| 37|       6.0|     0|  Vivo|\n",
      "|      5| 37|      13.0|     1|  Vivo|\n",
      "|      4| 37|       6.0|     0|  Vivo|\n",
      "+-------+---+----------+------+------+\n",
      "\n"
     ]
    }
   ],
   "source": [
    "# 过滤是vivo手机的用户\n",
    "df.filter(df['mobile'] == 'Vivo').show()"
   ]
  },
  {
   "cell_type": "code",
   "execution_count": 20,
   "metadata": {},
   "outputs": [
    {
     "name": "stdout",
     "output_type": "stream",
     "text": [
      "+---+-------+\n",
      "|age|ratings|\n",
      "+---+-------+\n",
      "| 32|      3|\n",
      "| 37|      5|\n",
      "| 37|      4|\n",
      "| 37|      5|\n",
      "| 37|      4|\n",
      "+---+-------+\n",
      "\n"
     ]
    }
   ],
   "source": [
    "df.filter(df['mobile'] == 'Vivo').select('age', 'ratings').show()"
   ]
  },
  {
   "cell_type": "code",
   "execution_count": 21,
   "metadata": {},
   "outputs": [
    {
     "name": "stdout",
     "output_type": "stream",
     "text": [
      "+-------+---+----------+------+------+\n",
      "|ratings|age|experience|family|mobile|\n",
      "+-------+---+----------+------+------+\n",
      "|      3| 32|       9.0|     3|  Vivo|\n",
      "+-------+---+----------+------+------+\n",
      "\n"
     ]
    }
   ],
   "source": [
    "# 嵌套filter\n",
    "df.filter(df['mobile'] == 'Vivo').filter(df['age'] <= 32).show()"
   ]
  },
  {
   "cell_type": "code",
   "execution_count": 22,
   "metadata": {},
   "outputs": [
    {
     "name": "stdout",
     "output_type": "stream",
     "text": [
      "+-------+---+----------+------+------+\n",
      "|ratings|age|experience|family|mobile|\n",
      "+-------+---+----------+------+------+\n",
      "|      3| 32|       9.0|     3|  Vivo|\n",
      "+-------+---+----------+------+------+\n",
      "\n"
     ]
    }
   ],
   "source": [
    "df.filter((df['mobile'] =='Vivo')&(df['age'] <= 32)).show()"
   ]
  },
  {
   "cell_type": "markdown",
   "metadata": {},
   "source": [
    "## distinct() "
   ]
  },
  {
   "cell_type": "code",
   "execution_count": 24,
   "metadata": {},
   "outputs": [
    {
     "name": "stdout",
     "output_type": "stream",
     "text": [
      "+-------+\n",
      "| mobile|\n",
      "+-------+\n",
      "|     MI|\n",
      "|   Oppo|\n",
      "|Samsung|\n",
      "|   Vivo|\n",
      "|  Apple|\n",
      "+-------+\n",
      "\n"
     ]
    }
   ],
   "source": [
    "df.select('mobile').distinct().show()"
   ]
  },
  {
   "cell_type": "code",
   "execution_count": 25,
   "metadata": {},
   "outputs": [
    {
     "data": {
      "text/plain": [
       "5"
      ]
     },
     "execution_count": 25,
     "metadata": {},
     "output_type": "execute_result"
    }
   ],
   "source": [
    "df.select('mobile').distinct().count()"
   ]
  },
  {
   "cell_type": "markdown",
   "metadata": {},
   "source": [
    "## groupBy()\n",
    "\n",
    "- max()\n",
    "- min()\n",
    "- mean()\n",
    "- sum()\n",
    "- count()\n",
    "- agg()"
   ]
  },
  {
   "cell_type": "code",
   "execution_count": 26,
   "metadata": {},
   "outputs": [
    {
     "name": "stdout",
     "output_type": "stream",
     "text": [
      "+-------+-----+\n",
      "|mobile |count|\n",
      "+-------+-----+\n",
      "|MI     |8    |\n",
      "|Oppo   |7    |\n",
      "|Apple  |7    |\n",
      "|Samsung|6    |\n",
      "|Vivo   |5    |\n",
      "+-------+-----+\n",
      "\n"
     ]
    }
   ],
   "source": [
    "# 使用不同手机的用户数量\n",
    "df.groupBy('mobile').count().orderBy('count', ascending=False).show(5, False)"
   ]
  },
  {
   "cell_type": "code",
   "execution_count": 27,
   "metadata": {},
   "outputs": [
    {
     "name": "stdout",
     "output_type": "stream",
     "text": [
      "+-------+------------------+------------------+------------------+------------------+\n",
      "| mobile|      avg(ratings)|          avg(age)|   avg(experience)|       avg(family)|\n",
      "+-------+------------------+------------------+------------------+------------------+\n",
      "|     MI|               3.5|            30.125|           10.1875|             1.375|\n",
      "|   Oppo| 2.857142857142857|28.428571428571427|10.357142857142858|1.4285714285714286|\n",
      "|Samsung| 4.166666666666667|28.666666666666668| 8.666666666666666|1.8333333333333333|\n",
      "|   Vivo|               4.2|              36.0|              11.4|               1.8|\n",
      "|  Apple|3.4285714285714284|30.571428571428573|              11.0|2.7142857142857144|\n",
      "+-------+------------------+------------------+------------------+------------------+\n",
      "\n"
     ]
    }
   ],
   "source": [
    "df.groupBy('mobile').mean().show()"
   ]
  },
  {
   "cell_type": "markdown",
   "metadata": {},
   "source": [
    "### agg()"
   ]
  },
  {
   "cell_type": "code",
   "execution_count": 28,
   "metadata": {},
   "outputs": [
    {
     "name": "stdout",
     "output_type": "stream",
     "text": [
      "+-------+------------------+\n",
      "| mobile|          avg(age)|\n",
      "+-------+------------------+\n",
      "|     MI|            30.125|\n",
      "|   Oppo|28.428571428571427|\n",
      "|Samsung|28.666666666666668|\n",
      "|   Vivo|              36.0|\n",
      "|  Apple|30.571428571428573|\n",
      "+-------+------------------+\n",
      "\n"
     ]
    }
   ],
   "source": [
    "# 使用不同品牌手机用户年龄均值\n",
    "df.groupBy('mobile').agg({'age': 'mean'}).show()"
   ]
  },
  {
   "cell_type": "markdown",
   "metadata": {},
   "source": [
    "## UDF : convert a python function to udf"
   ]
  },
  {
   "cell_type": "code",
   "execution_count": 29,
   "metadata": {},
   "outputs": [],
   "source": [
    "# 价格标签\n",
    "# (Samsung Apple) : High Price\n",
    "# MI : Mid Price\n",
    "# other : Low Price\n",
    "def price_label(brand):\n",
    "    if brand in ['Samsumg', 'Apple']:\n",
    "        return 'High Price'\n",
    "    elif brand == 'MI':\n",
    "        return 'Mid Price'\n",
    "    else :\n",
    "        return 'Low Price'"
   ]
  },
  {
   "cell_type": "code",
   "execution_count": 30,
   "metadata": {},
   "outputs": [
    {
     "name": "stdout",
     "output_type": "stream",
     "text": [
      "+-------+---+----------+------+-------+-----------+\n",
      "|ratings|age|experience|family| mobile|price_label|\n",
      "+-------+---+----------+------+-------+-----------+\n",
      "|      3| 32|       9.0|     3|   Vivo|  Low Price|\n",
      "|      3| 27|      13.0|     3|  Apple| High Price|\n",
      "|      4| 22|       2.5|     0|Samsung|  Low Price|\n",
      "|      4| 37|      16.5|     4|  Apple| High Price|\n",
      "|      5| 27|       9.0|     1|     MI|  Mid Price|\n",
      "|      4| 27|       9.0|     0|   Oppo|  Low Price|\n",
      "|      5| 37|      23.0|     5|   Vivo|  Low Price|\n",
      "|      5| 37|      23.0|     5|Samsung|  Low Price|\n",
      "|      3| 22|       2.5|     0|  Apple| High Price|\n",
      "|      3| 27|       6.0|     0|     MI|  Mid Price|\n",
      "+-------+---+----------+------+-------+-----------+\n",
      "only showing top 10 rows\n",
      "\n"
     ]
    }
   ],
   "source": [
    "# 新增price_label 列\n",
    "# convert python function to a udf\n",
    "brand_udf = udf(price_label)\n",
    "df.withColumn('price_label', brand_udf(df['mobile'])).show(10)"
   ]
  },
  {
   "cell_type": "markdown",
   "metadata": {},
   "source": [
    "## 匿名函数 lambda\n",
    "\n",
    "- convert a lambda function to udf"
   ]
  },
  {
   "cell_type": "code",
   "execution_count": 32,
   "metadata": {},
   "outputs": [
    {
     "name": "stdout",
     "output_type": "stream",
     "text": [
      "+-------+---+----------+------+-------+---------+\n",
      "|ratings|age|experience|family| mobile|age_label|\n",
      "+-------+---+----------+------+-------+---------+\n",
      "|      3| 32|       9.0|     3|   Vivo|      old|\n",
      "|      3| 27|      13.0|     3|  Apple|    young|\n",
      "|      4| 22|       2.5|     0|Samsung|    young|\n",
      "|      4| 37|      16.5|     4|  Apple|      old|\n",
      "|      5| 27|       9.0|     1|     MI|    young|\n",
      "|      4| 27|       9.0|     0|   Oppo|    young|\n",
      "|      5| 37|      23.0|     5|   Vivo|      old|\n",
      "|      5| 37|      23.0|     5|Samsung|      old|\n",
      "|      3| 22|       2.5|     0|  Apple|    young|\n",
      "|      3| 27|       6.0|     0|     MI|    young|\n",
      "+-------+---+----------+------+-------+---------+\n",
      "only showing top 10 rows\n",
      "\n"
     ]
    }
   ],
   "source": [
    "age_udf = udf(lambda age: 'young' if age < 30 else 'old', StringType())\n",
    "df.withColumn('age_label', age_udf(df['age'])).show(10)"
   ]
  },
  {
   "cell_type": "markdown",
   "metadata": {},
   "source": [
    "## pandas_udf, PandasUDFType"
   ]
  },
  {
   "cell_type": "code",
   "execution_count": 33,
   "metadata": {},
   "outputs": [],
   "source": [
    "def remain_years(age):\n",
    "    left_years = 100 - age\n",
    "    return left_years"
   ]
  },
  {
   "cell_type": "code",
   "execution_count": 35,
   "metadata": {},
   "outputs": [
    {
     "name": "stdout",
     "output_type": "stream",
     "text": [
      "+-------+---+----------+------+-------+----------+\n",
      "|ratings|age|experience|family| mobile|left_years|\n",
      "+-------+---+----------+------+-------+----------+\n",
      "|      3| 32|       9.0|     3|   Vivo|        68|\n",
      "|      3| 27|      13.0|     3|  Apple|        73|\n",
      "|      4| 22|       2.5|     0|Samsung|        78|\n",
      "|      4| 37|      16.5|     4|  Apple|        63|\n",
      "|      5| 27|       9.0|     1|     MI|        73|\n",
      "|      4| 27|       9.0|     0|   Oppo|        73|\n",
      "|      5| 37|      23.0|     5|   Vivo|        63|\n",
      "|      5| 37|      23.0|     5|Samsung|        63|\n",
      "|      3| 22|       2.5|     0|  Apple|        78|\n",
      "|      3| 27|       6.0|     0|     MI|        73|\n",
      "+-------+---+----------+------+-------+----------+\n",
      "only showing top 10 rows\n",
      "\n"
     ]
    }
   ],
   "source": [
    "left_years_udf = pandas_udf(remain_years, IntegerType())     # PyArrow >= 0.8 , 等价于udf（reamin_years, IntegerType()）\n",
    "df.withColumn('left_years', left_years_udf(df['age'])).show()"
   ]
  },
  {
   "cell_type": "code",
   "execution_count": 39,
   "metadata": {},
   "outputs": [],
   "source": [
    "def prod(rating, exp):\n",
    "    r=  rating*exp\n",
    "    return r"
   ]
  },
  {
   "cell_type": "code",
   "execution_count": 41,
   "metadata": {},
   "outputs": [
    {
     "name": "stdout",
     "output_type": "stream",
     "text": [
      "+-------+---+----------+------+-------+-------+\n",
      "|ratings|age|experience|family|mobile |product|\n",
      "+-------+---+----------+------+-------+-------+\n",
      "|3      |32 |9.0       |3     |Vivo   |27.0   |\n",
      "|3      |27 |13.0      |3     |Apple  |39.0   |\n",
      "|4      |22 |2.5       |0     |Samsung|10.0   |\n",
      "|4      |37 |16.5      |4     |Apple  |66.0   |\n",
      "|5      |27 |9.0       |1     |MI     |45.0   |\n",
      "|4      |27 |9.0       |0     |Oppo   |36.0   |\n",
      "|5      |37 |23.0      |5     |Vivo   |115.0  |\n",
      "|5      |37 |23.0      |5     |Samsung|115.0  |\n",
      "|3      |22 |2.5       |0     |Apple  |7.5    |\n",
      "|3      |27 |6.0       |0     |MI     |18.0   |\n",
      "+-------+---+----------+------+-------+-------+\n",
      "only showing top 10 rows\n",
      "\n"
     ]
    }
   ],
   "source": [
    "prod_udf = pandas_udf(prod, DoubleType())\n",
    "#prod_udf = udf(prod, DoubleType())\n",
    "df.withColumn(\"product\", prod_udf(df['ratings'],df['experience'])).show(10,False)"
   ]
  },
  {
   "cell_type": "markdown",
   "metadata": {},
   "source": [
    "# dropDuplicates()\n",
    "\n",
    "去掉重复的样本"
   ]
  },
  {
   "cell_type": "code",
   "execution_count": 42,
   "metadata": {},
   "outputs": [
    {
     "data": {
      "text/plain": [
       "26"
      ]
     },
     "execution_count": 42,
     "metadata": {},
     "output_type": "execute_result"
    }
   ],
   "source": [
    "new_df = df.dropDuplicates()\n",
    "new_df.count()"
   ]
  },
  {
   "cell_type": "code",
   "execution_count": 45,
   "metadata": {},
   "outputs": [
    {
     "name": "stdout",
     "output_type": "stream",
     "text": [
      "+-------+---+----------+------+-------+\n",
      "|ratings|age|experience|family| mobile|\n",
      "+-------+---+----------+------+-------+\n",
      "|      3| 32|       9.0|     3|   Vivo|\n",
      "|      4| 22|       2.5|     0|Samsung|\n",
      "|      5| 27|       6.0|     0|     MI|\n",
      "|      4| 22|       6.0|     1|   Oppo|\n",
      "|      3| 27|       6.0|     0|     MI|\n",
      "+-------+---+----------+------+-------+\n",
      "only showing top 5 rows\n",
      "\n"
     ]
    }
   ],
   "source": [
    "new_df.show(5)"
   ]
  },
  {
   "cell_type": "markdown",
   "metadata": {},
   "source": [
    "## dorp()"
   ]
  },
  {
   "cell_type": "code",
   "execution_count": 46,
   "metadata": {},
   "outputs": [
    {
     "name": "stdout",
     "output_type": "stream",
     "text": [
      "+-------+---+----------+------+\n",
      "|ratings|age|experience|family|\n",
      "+-------+---+----------+------+\n",
      "|      3| 32|       9.0|     3|\n",
      "|      4| 22|       2.5|     0|\n",
      "|      5| 27|       6.0|     0|\n",
      "|      4| 22|       6.0|     1|\n",
      "|      3| 27|       6.0|     0|\n",
      "+-------+---+----------+------+\n",
      "only showing top 5 rows\n",
      "\n"
     ]
    }
   ],
   "source": [
    "new_df.drop('mobile').show(5)"
   ]
  },
  {
   "cell_type": "markdown",
   "metadata": {},
   "source": [
    "# Saving data\n",
    "\n",
    "- 如果当前目录不存在，会创建目录\n",
    "- parquet格式，如果目录已存在，可能会报错"
   ]
  },
  {
   "cell_type": "code",
   "execution_count": 58,
   "metadata": {
    "scrolled": true
   },
   "outputs": [
    {
     "name": "stdout",
     "output_type": "stream",
     "text": [
      "+-------+---+----------+------+-------+\n",
      "|ratings|age|experience|family| mobile|\n",
      "+-------+---+----------+------+-------+\n",
      "|      3| 32|       9.0|     3|   Vivo|\n",
      "|      4| 22|       2.5|     0|Samsung|\n",
      "|      5| 27|       6.0|     0|     MI|\n",
      "|      4| 22|       6.0|     1|   Oppo|\n",
      "|      3| 27|       6.0|     0|     MI|\n",
      "+-------+---+----------+------+-------+\n",
      "only showing top 5 rows\n",
      "\n"
     ]
    }
   ],
   "source": [
    "new_df.coalesce(1).show(5)     # coalesce(numPartitions) 返回一个dataframe对象，并指定分区的数量"
   ]
  },
  {
   "cell_type": "code",
   "execution_count": 49,
   "metadata": {},
   "outputs": [],
   "source": [
    "# csv\n",
    "new_df.coalesce(1).write.format('csv').option('header', 'true').save('./Data/New_sample_data')"
   ]
  },
  {
   "cell_type": "code",
   "execution_count": 56,
   "metadata": {},
   "outputs": [],
   "source": [
    "# csv\n",
    "new_df.write.format('csv').option('header', 'true').save('./Date/New_sample_data')"
   ]
  },
  {
   "cell_type": "code",
   "execution_count": 54,
   "metadata": {},
   "outputs": [],
   "source": [
    "# parquet\n",
    "new_df.coalesce(1).write.format('parquet').save('./Data/New_data')"
   ]
  },
  {
   "cell_type": "code",
   "execution_count": 55,
   "metadata": {},
   "outputs": [
    {
     "name": "stdout",
     "output_type": "stream",
     "text": [
      "+-------+---+----------+------+-------+\n",
      "|ratings|age|experience|family| mobile|\n",
      "+-------+---+----------+------+-------+\n",
      "|      3| 32|       9.0|     3|   Vivo|\n",
      "|      4| 22|       2.5|     0|Samsung|\n",
      "|      5| 27|       6.0|     0|     MI|\n",
      "|      4| 22|       6.0|     1|   Oppo|\n",
      "|      3| 27|       6.0|     0|     MI|\n",
      "|      2| 32|      16.5|     2|   Oppo|\n",
      "|      4| 27|       9.0|     0|   Oppo|\n",
      "|      2| 27|       9.0|     2|Samsung|\n",
      "|      3| 37|      16.5|     5|  Apple|\n",
      "|      4| 27|       6.0|     1|  Apple|\n",
      "|      5| 37|      23.0|     5|   Vivo|\n",
      "|      2| 27|       6.0|     2|   Oppo|\n",
      "|      4| 37|       6.0|     0|   Vivo|\n",
      "|      5| 37|      23.0|     5|Samsung|\n",
      "|      4| 37|       9.0|     2|Samsung|\n",
      "|      5| 37|      13.0|     1|   Vivo|\n",
      "|      5| 27|       2.5|     0|     MI|\n",
      "|      3| 42|      23.0|     5|     MI|\n",
      "|      5| 22|       2.5|     0|Samsung|\n",
      "|      1| 37|      23.0|     5|     MI|\n",
      "+-------+---+----------+------+-------+\n",
      "only showing top 20 rows\n",
      "\n"
     ]
    }
   ],
   "source": [
    "new_df.show()"
   ]
  }
 ],
 "metadata": {
  "kernelspec": {
   "display_name": "Python 3",
   "language": "python",
   "name": "python3"
  },
  "language_info": {
   "codemirror_mode": {
    "name": "ipython",
    "version": 3
   },
   "file_extension": ".py",
   "mimetype": "text/x-python",
   "name": "python",
   "nbconvert_exporter": "python",
   "pygments_lexer": "ipython3",
   "version": "3.7.2"
  }
 },
 "nbformat": 4,
 "nbformat_minor": 2
}
