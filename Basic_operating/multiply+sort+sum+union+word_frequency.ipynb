{
 "cells": [
  {
   "cell_type": "markdown",
   "metadata": {},
   "source": [
    "# multiply"
   ]
  },
  {
   "cell_type": "code",
   "execution_count": 1,
   "metadata": {},
   "outputs": [],
   "source": [
    "from pyspark import SparkConf, SparkContext\n",
    "sc = SparkContext()"
   ]
  },
  {
   "cell_type": "code",
   "execution_count": 2,
   "metadata": {},
   "outputs": [
    {
     "name": "stdout",
     "output_type": "stream",
     "text": [
      "120\n"
     ]
    }
   ],
   "source": [
    "# 累乘\n",
    "nums = sc.parallelize([1, 2, 3 ,4, 5])\n",
    "mult = nums.fold(1,  (lambda x, y : x *y))\n",
    "print(mult)"
   ]
  },
  {
   "cell_type": "code",
   "execution_count": 4,
   "metadata": {},
   "outputs": [
    {
     "name": "stdout",
     "output_type": "stream",
     "text": [
      "15\n"
     ]
    }
   ],
   "source": [
    "# 累加\n",
    "accumulate = nums.fold(0, (lambda x, y : x + y))\n",
    "print(accumulate)"
   ]
  },
  {
   "cell_type": "markdown",
   "metadata": {},
   "source": [
    "# sort_by key"
   ]
  },
  {
   "cell_type": "code",
   "execution_count": 5,
   "metadata": {},
   "outputs": [
    {
     "name": "stdout",
     "output_type": "stream",
     "text": [
      "crazy crazy fox jumped\r\n",
      "crazy for jumped\r\n",
      "fox is fast \r\n",
      "fox is smart\r\n",
      "dog is smart\r\n"
     ]
    }
   ],
   "source": [
    "! cat ./data.txt"
   ]
  },
  {
   "cell_type": "code",
   "execution_count": 6,
   "metadata": {},
   "outputs": [
    {
     "data": {
      "text/plain": [
       "['crazy crazy fox jumped',\n",
       " 'crazy for jumped',\n",
       " 'fox is fast ',\n",
       " 'fox is smart',\n",
       " 'dog is smart']"
      ]
     },
     "execution_count": 6,
     "metadata": {},
     "output_type": "execute_result"
    }
   ],
   "source": [
    "lines = sc.textFile('data.txt', 1)\n",
    "lines.collect()"
   ]
  },
  {
   "cell_type": "code",
   "execution_count": 8,
   "metadata": {},
   "outputs": [
    {
     "data": {
      "text/plain": [
       "[('crazy', 3),\n",
       " ('fox', 3),\n",
       " ('jumped', 2),\n",
       " ('for', 1),\n",
       " ('is', 3),\n",
       " ('fast', 1),\n",
       " ('', 1),\n",
       " ('smart', 2),\n",
       " ('dog', 1)]"
      ]
     },
     "execution_count": 8,
     "metadata": {},
     "output_type": "execute_result"
    }
   ],
   "source": [
    "# 词频统计 \n",
    "# flatMap ：展平嵌套的可迭代对象\n",
    "frequencies = lines.flatMap(lambda x : x.split(' ')).map(lambda x : (x, 1)).reduceByKey(lambda x, y : x +y)\n",
    "frequencies.collect()"
   ]
  },
  {
   "cell_type": "code",
   "execution_count": 9,
   "metadata": {},
   "outputs": [
    {
     "data": {
      "text/plain": [
       "9"
      ]
     },
     "execution_count": 9,
     "metadata": {},
     "output_type": "execute_result"
    }
   ],
   "source": [
    "frequencies.count()"
   ]
  },
  {
   "cell_type": "code",
   "execution_count": 10,
   "metadata": {},
   "outputs": [
    {
     "data": {
      "text/plain": [
       "['crazy',\n",
       " 'crazy',\n",
       " 'fox',\n",
       " 'jumped',\n",
       " 'crazy',\n",
       " 'for',\n",
       " 'jumped',\n",
       " 'fox',\n",
       " 'is',\n",
       " 'fast',\n",
       " '',\n",
       " 'fox',\n",
       " 'is',\n",
       " 'smart',\n",
       " 'dog',\n",
       " 'is',\n",
       " 'smart']"
      ]
     },
     "execution_count": 10,
     "metadata": {},
     "output_type": "execute_result"
    }
   ],
   "source": [
    "lines.flatMap(lambda x : x.split(' ')).collect()"
   ]
  },
  {
   "cell_type": "code",
   "execution_count": 11,
   "metadata": {},
   "outputs": [
    {
     "data": {
      "text/plain": [
       "[('crazy', 1),\n",
       " ('crazy', 1),\n",
       " ('fox', 1),\n",
       " ('jumped', 1),\n",
       " ('crazy', 1),\n",
       " ('for', 1),\n",
       " ('jumped', 1),\n",
       " ('fox', 1),\n",
       " ('is', 1),\n",
       " ('fast', 1),\n",
       " ('', 1),\n",
       " ('fox', 1),\n",
       " ('is', 1),\n",
       " ('smart', 1),\n",
       " ('dog', 1),\n",
       " ('is', 1),\n",
       " ('smart', 1)]"
      ]
     },
     "execution_count": 11,
     "metadata": {},
     "output_type": "execute_result"
    }
   ],
   "source": [
    "lines.flatMap(lambda x : x.split(' ')).map(lambda x : (x, 1)).collect()"
   ]
  },
  {
   "cell_type": "code",
   "execution_count": 12,
   "metadata": {},
   "outputs": [
    {
     "data": {
      "text/plain": [
       "['crazy crazy fox jumped',\n",
       " 'crazy for jumped',\n",
       " 'fox is fast ',\n",
       " 'fox is smart',\n",
       " 'dog is smart']"
      ]
     },
     "execution_count": 12,
     "metadata": {},
     "output_type": "execute_result"
    }
   ],
   "source": [
    "lines.collect()"
   ]
  },
  {
   "cell_type": "code",
   "execution_count": 13,
   "metadata": {},
   "outputs": [
    {
     "data": {
      "text/plain": [
       "[('crazy', 3),\n",
       " ('fox', 3),\n",
       " ('jumped', 2),\n",
       " ('for', 1),\n",
       " ('is', 3),\n",
       " ('fast', 1),\n",
       " ('', 1),\n",
       " ('smart', 2),\n",
       " ('dog', 1)]"
      ]
     },
     "execution_count": 13,
     "metadata": {},
     "output_type": "execute_result"
    }
   ],
   "source": [
    "lines.flatMap(lambda x : x.split(' ')).map(lambda x : (x, 1)).reduceByKey(lambda x, y : x + y).collect()"
   ]
  },
  {
   "cell_type": "markdown",
   "metadata": {},
   "source": [
    "# sum"
   ]
  },
  {
   "cell_type": "code",
   "execution_count": 22,
   "metadata": {},
   "outputs": [
    {
     "name": "stdout",
     "output_type": "stream",
     "text": [
      "36\n"
     ]
    }
   ],
   "source": [
    "nums = sc.parallelize([1, 2, 3, 4, 5, 6, 7, 8])\n",
    "Sum = nums.fold(0, (lambda x, y : x+y))\n",
    "\n",
    "print(Sum)"
   ]
  },
  {
   "cell_type": "markdown",
   "metadata": {},
   "source": [
    "# union"
   ]
  },
  {
   "cell_type": "code",
   "execution_count": 26,
   "metadata": {},
   "outputs": [
    {
     "name": "stdout",
     "output_type": "stream",
     "text": [
      "r3 : [('k1', 1), ('k2', 2), ('k3', 3), ('k1', 3), ('k2', 4), ('k4', 8)]\n",
      "r4 : [('k1', 4), ('k3', 3), ('k4', 8), ('k2', 6)]\n"
     ]
    }
   ],
   "source": [
    "r1 = sc.parallelize([('k1', 1), ('k2', 2), ('k3', 3)])\n",
    "r2 = sc.parallelize([('k1', 3), ('k2', 4), ('k4', 8)])\n",
    "r3 = r1.union(r2)\n",
    "\n",
    "print('r3 :', r3.collect())\n",
    "\n",
    "r4 = r3.reduceByKey(lambda x, y : x + y)\n",
    "\n",
    "print('r4 :', r4.collect())"
   ]
  },
  {
   "cell_type": "markdown",
   "metadata": {},
   "source": [
    "# Word frequency"
   ]
  },
  {
   "cell_type": "code",
   "execution_count": 73,
   "metadata": {},
   "outputs": [
    {
     "name": "stdout",
     "output_type": "stream",
     "text": [
      "crazy crazy fox jumped over the fence\r\n",
      "crazy fox jumped\r\n",
      "the fence is high of fox\r\n",
      "crazy fox is smart\r\n",
      "fox jumped very high\r\n"
     ]
    }
   ],
   "source": [
    "!cat './data.txt'"
   ]
  },
  {
   "cell_type": "code",
   "execution_count": 44,
   "metadata": {},
   "outputs": [
    {
     "name": "stdout",
     "output_type": "stream",
     "text": [
      "['crazy crazy fox jumped over the fence', 'crazy fox jumped', 'the fence is high of fox', 'crazy fox is smart', 'fox jumped very high']\n"
     ]
    }
   ],
   "source": [
    "lines2 = sc.textFile('./data.txt')\n",
    "print(lines2.collect())"
   ]
  },
  {
   "cell_type": "code",
   "execution_count": 45,
   "metadata": {},
   "outputs": [
    {
     "name": "stdout",
     "output_type": "stream",
     "text": [
      "lines2 is :\n",
      "[['crazy', 'crazy', 'fox', 'jumped', 'over', 'the', 'fence'], ['crazy', 'fox', 'jumped'], ['the', 'fence', 'is', 'high', 'of', 'fox']]\n"
     ]
    }
   ],
   "source": [
    "lines2 = lines.map(lambda x : x.split(' '))\n",
    "print('lines2 is :')\n",
    "print(lines2.collect())"
   ]
  },
  {
   "cell_type": "code",
   "execution_count": 51,
   "metadata": {},
   "outputs": [
    {
     "name": "stdout",
     "output_type": "stream",
     "text": [
      "bigarms list :\n",
      "['crazy', 'crazy', 'fox', 'jumped', 'over', 'the', 'fence', 'crazy', 'fox', 'jumped', 'the', 'fence', 'is', 'high', 'of', 'fox']\n"
     ]
    }
   ],
   "source": [
    "bigrams_list  = lines2.fold([], lambda x ,y : x+y)\n",
    "bigrams_list = sc.parallelize(bigarms_list)\n",
    "print('bigrams list :')\n",
    "print(bigrams_list.collect())"
   ]
  },
  {
   "cell_type": "code",
   "execution_count": 67,
   "metadata": {},
   "outputs": [
    {
     "name": "stdout",
     "output_type": "stream",
     "text": [
      "word frequency\n",
      "[('crazy', 0.3333333333333333), ('of', 0.1111111111111111), ('jumped', 0.2222222222222222), ('high', 0.1111111111111111), ('fence', 0.2222222222222222), ('fox', 0.3333333333333333), ('over', 0.1111111111111111), ('is', 0.1111111111111111), ('the', 0.2222222222222222)]\n"
     ]
    }
   ],
   "source": [
    "word_counts = bigrams_list.map(lambda x : (x, 1)).reduceByKey(lambda x, y: x+y)\n",
    "\n",
    "n_words = word_counts.count()\n",
    "word_frequency =word_counts.map(lambda x : (x[0],float(x[1]/n_words)))\n",
    "print('word frequency')\n",
    "print(word_frequency.collect())"
   ]
  }
 ],
 "metadata": {
  "kernelspec": {
   "display_name": "Python 3",
   "language": "python",
   "name": "python3"
  },
  "language_info": {
   "codemirror_mode": {
    "name": "ipython",
    "version": 3
   },
   "file_extension": ".py",
   "mimetype": "text/x-python",
   "name": "python",
   "nbconvert_exporter": "python",
   "pygments_lexer": "ipython3",
   "version": "3.7.2"
  }
 },
 "nbformat": 4,
 "nbformat_minor": 2
}
