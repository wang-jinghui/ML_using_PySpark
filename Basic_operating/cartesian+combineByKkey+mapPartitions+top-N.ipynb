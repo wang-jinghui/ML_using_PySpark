{
 "cells": [
  {
   "cell_type": "code",
   "execution_count": 1,
   "metadata": {},
   "outputs": [],
   "source": [
    "from pyspark import SparkConf, SparkContext\n",
    "sc = SparkContext()"
   ]
  },
  {
   "cell_type": "markdown",
   "metadata": {},
   "source": [
    "# cartesian"
   ]
  },
  {
   "cell_type": "code",
   "execution_count": 2,
   "metadata": {},
   "outputs": [
    {
     "data": {
      "text/plain": [
       "[(('k1', 'v1'), ('k3', 'v3')),\n",
       " (('k1', 'v1'), ('k4', 'v4')),\n",
       " (('k1', 'v1'), ('k5', 'v5')),\n",
       " (('k2', 'v2'), ('k3', 'v3')),\n",
       " (('k2', 'v2'), ('k4', 'v4')),\n",
       " (('k2', 'v2'), ('k5', 'v5'))]"
      ]
     },
     "execution_count": 2,
     "metadata": {},
     "output_type": "execute_result"
    }
   ],
   "source": [
    "# 笛卡尔\n",
    "r1 = sc.parallelize([('k1', 'v1'), ('k2', 'v2')])\n",
    "r2 = sc.parallelize([('k3', 'v3'), ('k4', 'v4'), ('k5', 'v5')])\n",
    "r3 = r1.cartesian(r2)\n",
    "r3.collect()"
   ]
  },
  {
   "cell_type": "markdown",
   "metadata": {},
   "source": [
    "# word cartesian"
   ]
  },
  {
   "cell_type": "code",
   "execution_count": 3,
   "metadata": {},
   "outputs": [
    {
     "name": "stdout",
     "output_type": "stream",
     "text": [
      "crazy crazy fox jumped over the fence\r\n",
      "crazy fox jumped\r\n",
      "the fence is high of fox\r\n",
      "crazy fox is smart\r\n",
      "fox jumped very high\r\n"
     ]
    }
   ],
   "source": [
    "! cat './data.txt'"
   ]
  },
  {
   "cell_type": "code",
   "execution_count": 5,
   "metadata": {},
   "outputs": [
    {
     "data": {
      "text/plain": [
       "[('crazy', 'crazy'),\n",
       " ('crazy', 'crazy'),\n",
       " ('crazy', 'fox'),\n",
       " ('crazy', 'jumped'),\n",
       " ('crazy', 'over'),\n",
       " ('crazy', 'the'),\n",
       " ('crazy', 'fence'),\n",
       " ('crazy', 'crazy'),\n",
       " ('crazy', 'fox'),\n",
       " ('crazy', 'jumped'),\n",
       " ('crazy', 'the'),\n",
       " ('crazy', 'fence'),\n",
       " ('crazy', 'is'),\n",
       " ('crazy', 'high'),\n",
       " ('crazy', 'of'),\n",
       " ('crazy', 'fox'),\n",
       " ('crazy', 'crazy'),\n",
       " ('crazy', 'fox'),\n",
       " ('crazy', 'is'),\n",
       " ('crazy', 'smart'),\n",
       " ('crazy', 'fox'),\n",
       " ('crazy', 'jumped'),\n",
       " ('crazy', 'very'),\n",
       " ('crazy', 'high'),\n",
       " ('crazy', 'crazy'),\n",
       " ('crazy', 'crazy'),\n",
       " ('crazy', 'fox'),\n",
       " ('crazy', 'jumped'),\n",
       " ('crazy', 'over'),\n",
       " ('crazy', 'the'),\n",
       " ('crazy', 'fence'),\n",
       " ('crazy', 'crazy'),\n",
       " ('crazy', 'fox'),\n",
       " ('crazy', 'jumped'),\n",
       " ('crazy', 'the'),\n",
       " ('crazy', 'fence'),\n",
       " ('crazy', 'is'),\n",
       " ('crazy', 'high'),\n",
       " ('crazy', 'of'),\n",
       " ('crazy', 'fox'),\n",
       " ('crazy', 'crazy'),\n",
       " ('crazy', 'fox'),\n",
       " ('crazy', 'is'),\n",
       " ('crazy', 'smart'),\n",
       " ('crazy', 'fox'),\n",
       " ('crazy', 'jumped'),\n",
       " ('crazy', 'very'),\n",
       " ('crazy', 'high'),\n",
       " ('fox', 'crazy'),\n",
       " ('fox', 'crazy'),\n",
       " ('fox', 'fox'),\n",
       " ('fox', 'jumped'),\n",
       " ('fox', 'over'),\n",
       " ('fox', 'the'),\n",
       " ('fox', 'fence'),\n",
       " ('fox', 'crazy'),\n",
       " ('fox', 'fox'),\n",
       " ('fox', 'jumped'),\n",
       " ('fox', 'the'),\n",
       " ('fox', 'fence'),\n",
       " ('fox', 'is'),\n",
       " ('fox', 'high'),\n",
       " ('fox', 'of'),\n",
       " ('fox', 'fox'),\n",
       " ('fox', 'crazy'),\n",
       " ('fox', 'fox'),\n",
       " ('fox', 'is'),\n",
       " ('fox', 'smart'),\n",
       " ('fox', 'fox'),\n",
       " ('fox', 'jumped'),\n",
       " ('fox', 'very'),\n",
       " ('fox', 'high'),\n",
       " ('jumped', 'crazy'),\n",
       " ('jumped', 'crazy'),\n",
       " ('jumped', 'fox'),\n",
       " ('jumped', 'jumped'),\n",
       " ('jumped', 'over'),\n",
       " ('jumped', 'the'),\n",
       " ('jumped', 'fence'),\n",
       " ('jumped', 'crazy'),\n",
       " ('jumped', 'fox'),\n",
       " ('jumped', 'jumped'),\n",
       " ('jumped', 'the'),\n",
       " ('jumped', 'fence'),\n",
       " ('jumped', 'is'),\n",
       " ('jumped', 'high'),\n",
       " ('jumped', 'of'),\n",
       " ('jumped', 'fox'),\n",
       " ('jumped', 'crazy'),\n",
       " ('jumped', 'fox'),\n",
       " ('jumped', 'is'),\n",
       " ('jumped', 'smart'),\n",
       " ('jumped', 'fox'),\n",
       " ('jumped', 'jumped'),\n",
       " ('jumped', 'very'),\n",
       " ('jumped', 'high'),\n",
       " ('over', 'crazy'),\n",
       " ('over', 'crazy'),\n",
       " ('over', 'fox'),\n",
       " ('over', 'jumped'),\n",
       " ('over', 'over'),\n",
       " ('over', 'the'),\n",
       " ('over', 'fence'),\n",
       " ('over', 'crazy'),\n",
       " ('over', 'fox'),\n",
       " ('over', 'jumped'),\n",
       " ('over', 'the'),\n",
       " ('over', 'fence'),\n",
       " ('over', 'is'),\n",
       " ('over', 'high'),\n",
       " ('over', 'of'),\n",
       " ('over', 'fox'),\n",
       " ('over', 'crazy'),\n",
       " ('over', 'fox'),\n",
       " ('over', 'is'),\n",
       " ('over', 'smart'),\n",
       " ('over', 'fox'),\n",
       " ('over', 'jumped'),\n",
       " ('over', 'very'),\n",
       " ('over', 'high'),\n",
       " ('the', 'crazy'),\n",
       " ('the', 'crazy'),\n",
       " ('the', 'fox'),\n",
       " ('the', 'jumped'),\n",
       " ('the', 'over'),\n",
       " ('the', 'the'),\n",
       " ('the', 'fence'),\n",
       " ('the', 'crazy'),\n",
       " ('the', 'fox'),\n",
       " ('the', 'jumped'),\n",
       " ('the', 'the'),\n",
       " ('the', 'fence'),\n",
       " ('the', 'is'),\n",
       " ('the', 'high'),\n",
       " ('the', 'of'),\n",
       " ('the', 'fox'),\n",
       " ('the', 'crazy'),\n",
       " ('the', 'fox'),\n",
       " ('the', 'is'),\n",
       " ('the', 'smart'),\n",
       " ('the', 'fox'),\n",
       " ('the', 'jumped'),\n",
       " ('the', 'very'),\n",
       " ('the', 'high'),\n",
       " ('fence', 'crazy'),\n",
       " ('fence', 'crazy'),\n",
       " ('fence', 'fox'),\n",
       " ('fence', 'jumped'),\n",
       " ('fence', 'over'),\n",
       " ('fence', 'the'),\n",
       " ('fence', 'fence'),\n",
       " ('fence', 'crazy'),\n",
       " ('fence', 'fox'),\n",
       " ('fence', 'jumped'),\n",
       " ('fence', 'the'),\n",
       " ('fence', 'fence'),\n",
       " ('fence', 'is'),\n",
       " ('fence', 'high'),\n",
       " ('fence', 'of'),\n",
       " ('fence', 'fox'),\n",
       " ('fence', 'crazy'),\n",
       " ('fence', 'fox'),\n",
       " ('fence', 'is'),\n",
       " ('fence', 'smart'),\n",
       " ('fence', 'fox'),\n",
       " ('fence', 'jumped'),\n",
       " ('fence', 'very'),\n",
       " ('fence', 'high'),\n",
       " ('crazy', 'crazy'),\n",
       " ('crazy', 'crazy'),\n",
       " ('crazy', 'fox'),\n",
       " ('crazy', 'jumped'),\n",
       " ('crazy', 'over'),\n",
       " ('crazy', 'the'),\n",
       " ('crazy', 'fence'),\n",
       " ('crazy', 'crazy'),\n",
       " ('crazy', 'fox'),\n",
       " ('crazy', 'jumped'),\n",
       " ('crazy', 'the'),\n",
       " ('crazy', 'fence'),\n",
       " ('crazy', 'is'),\n",
       " ('crazy', 'high'),\n",
       " ('crazy', 'of'),\n",
       " ('crazy', 'fox'),\n",
       " ('crazy', 'crazy'),\n",
       " ('crazy', 'fox'),\n",
       " ('crazy', 'is'),\n",
       " ('crazy', 'smart'),\n",
       " ('crazy', 'fox'),\n",
       " ('crazy', 'jumped'),\n",
       " ('crazy', 'very'),\n",
       " ('crazy', 'high'),\n",
       " ('fox', 'crazy'),\n",
       " ('fox', 'crazy'),\n",
       " ('fox', 'fox'),\n",
       " ('fox', 'jumped'),\n",
       " ('fox', 'over'),\n",
       " ('fox', 'the'),\n",
       " ('fox', 'fence'),\n",
       " ('fox', 'crazy'),\n",
       " ('fox', 'fox'),\n",
       " ('fox', 'jumped'),\n",
       " ('fox', 'the'),\n",
       " ('fox', 'fence'),\n",
       " ('fox', 'is'),\n",
       " ('fox', 'high'),\n",
       " ('fox', 'of'),\n",
       " ('fox', 'fox'),\n",
       " ('fox', 'crazy'),\n",
       " ('fox', 'fox'),\n",
       " ('fox', 'is'),\n",
       " ('fox', 'smart'),\n",
       " ('fox', 'fox'),\n",
       " ('fox', 'jumped'),\n",
       " ('fox', 'very'),\n",
       " ('fox', 'high'),\n",
       " ('jumped', 'crazy'),\n",
       " ('jumped', 'crazy'),\n",
       " ('jumped', 'fox'),\n",
       " ('jumped', 'jumped'),\n",
       " ('jumped', 'over'),\n",
       " ('jumped', 'the'),\n",
       " ('jumped', 'fence'),\n",
       " ('jumped', 'crazy'),\n",
       " ('jumped', 'fox'),\n",
       " ('jumped', 'jumped'),\n",
       " ('jumped', 'the'),\n",
       " ('jumped', 'fence'),\n",
       " ('jumped', 'is'),\n",
       " ('jumped', 'high'),\n",
       " ('jumped', 'of'),\n",
       " ('jumped', 'fox'),\n",
       " ('jumped', 'crazy'),\n",
       " ('jumped', 'fox'),\n",
       " ('jumped', 'is'),\n",
       " ('jumped', 'smart'),\n",
       " ('jumped', 'fox'),\n",
       " ('jumped', 'jumped'),\n",
       " ('jumped', 'very'),\n",
       " ('jumped', 'high'),\n",
       " ('the', 'crazy'),\n",
       " ('the', 'crazy'),\n",
       " ('the', 'fox'),\n",
       " ('the', 'jumped'),\n",
       " ('the', 'over'),\n",
       " ('the', 'the'),\n",
       " ('the', 'fence'),\n",
       " ('the', 'crazy'),\n",
       " ('the', 'fox'),\n",
       " ('the', 'jumped'),\n",
       " ('the', 'the'),\n",
       " ('the', 'fence'),\n",
       " ('the', 'is'),\n",
       " ('the', 'high'),\n",
       " ('the', 'of'),\n",
       " ('the', 'fox'),\n",
       " ('the', 'crazy'),\n",
       " ('the', 'fox'),\n",
       " ('the', 'is'),\n",
       " ('the', 'smart'),\n",
       " ('the', 'fox'),\n",
       " ('the', 'jumped'),\n",
       " ('the', 'very'),\n",
       " ('the', 'high'),\n",
       " ('fence', 'crazy'),\n",
       " ('fence', 'crazy'),\n",
       " ('fence', 'fox'),\n",
       " ('fence', 'jumped'),\n",
       " ('fence', 'over'),\n",
       " ('fence', 'the'),\n",
       " ('fence', 'fence'),\n",
       " ('fence', 'crazy'),\n",
       " ('fence', 'fox'),\n",
       " ('fence', 'jumped'),\n",
       " ('fence', 'the'),\n",
       " ('fence', 'fence'),\n",
       " ('fence', 'is'),\n",
       " ('fence', 'high'),\n",
       " ('fence', 'of'),\n",
       " ('fence', 'fox'),\n",
       " ('fence', 'crazy'),\n",
       " ('fence', 'fox'),\n",
       " ('fence', 'is'),\n",
       " ('fence', 'smart'),\n",
       " ('fence', 'fox'),\n",
       " ('fence', 'jumped'),\n",
       " ('fence', 'very'),\n",
       " ('fence', 'high'),\n",
       " ('is', 'crazy'),\n",
       " ('is', 'crazy'),\n",
       " ('is', 'fox'),\n",
       " ('is', 'jumped'),\n",
       " ('is', 'over'),\n",
       " ('is', 'the'),\n",
       " ('is', 'fence'),\n",
       " ('is', 'crazy'),\n",
       " ('is', 'fox'),\n",
       " ('is', 'jumped'),\n",
       " ('is', 'the'),\n",
       " ('is', 'fence'),\n",
       " ('is', 'is'),\n",
       " ('is', 'high'),\n",
       " ('is', 'of'),\n",
       " ('is', 'fox'),\n",
       " ('is', 'crazy'),\n",
       " ('is', 'fox'),\n",
       " ('is', 'is'),\n",
       " ('is', 'smart'),\n",
       " ('is', 'fox'),\n",
       " ('is', 'jumped'),\n",
       " ('is', 'very'),\n",
       " ('is', 'high'),\n",
       " ('high', 'crazy'),\n",
       " ('high', 'crazy'),\n",
       " ('high', 'fox'),\n",
       " ('high', 'jumped'),\n",
       " ('high', 'over'),\n",
       " ('high', 'the'),\n",
       " ('high', 'fence'),\n",
       " ('high', 'crazy'),\n",
       " ('high', 'fox'),\n",
       " ('high', 'jumped'),\n",
       " ('high', 'the'),\n",
       " ('high', 'fence'),\n",
       " ('high', 'is'),\n",
       " ('high', 'high'),\n",
       " ('high', 'of'),\n",
       " ('high', 'fox'),\n",
       " ('high', 'crazy'),\n",
       " ('high', 'fox'),\n",
       " ('high', 'is'),\n",
       " ('high', 'smart'),\n",
       " ('high', 'fox'),\n",
       " ('high', 'jumped'),\n",
       " ('high', 'very'),\n",
       " ('high', 'high'),\n",
       " ('of', 'crazy'),\n",
       " ('of', 'crazy'),\n",
       " ('of', 'fox'),\n",
       " ('of', 'jumped'),\n",
       " ('of', 'over'),\n",
       " ('of', 'the'),\n",
       " ('of', 'fence'),\n",
       " ('of', 'crazy'),\n",
       " ('of', 'fox'),\n",
       " ('of', 'jumped'),\n",
       " ('of', 'the'),\n",
       " ('of', 'fence'),\n",
       " ('of', 'is'),\n",
       " ('of', 'high'),\n",
       " ('of', 'of'),\n",
       " ('of', 'fox'),\n",
       " ('of', 'crazy'),\n",
       " ('of', 'fox'),\n",
       " ('of', 'is'),\n",
       " ('of', 'smart'),\n",
       " ('of', 'fox'),\n",
       " ('of', 'jumped'),\n",
       " ('of', 'very'),\n",
       " ('of', 'high'),\n",
       " ('fox', 'crazy'),\n",
       " ('fox', 'crazy'),\n",
       " ('fox', 'fox'),\n",
       " ('fox', 'jumped'),\n",
       " ('fox', 'over'),\n",
       " ('fox', 'the'),\n",
       " ('fox', 'fence'),\n",
       " ('fox', 'crazy'),\n",
       " ('fox', 'fox'),\n",
       " ('fox', 'jumped'),\n",
       " ('fox', 'the'),\n",
       " ('fox', 'fence'),\n",
       " ('fox', 'is'),\n",
       " ('fox', 'high'),\n",
       " ('fox', 'of'),\n",
       " ('fox', 'fox'),\n",
       " ('fox', 'crazy'),\n",
       " ('fox', 'fox'),\n",
       " ('fox', 'is'),\n",
       " ('fox', 'smart'),\n",
       " ('fox', 'fox'),\n",
       " ('fox', 'jumped'),\n",
       " ('fox', 'very'),\n",
       " ('fox', 'high'),\n",
       " ('crazy', 'crazy'),\n",
       " ('crazy', 'crazy'),\n",
       " ('crazy', 'fox'),\n",
       " ('crazy', 'jumped'),\n",
       " ('crazy', 'over'),\n",
       " ('crazy', 'the'),\n",
       " ('crazy', 'fence'),\n",
       " ('crazy', 'crazy'),\n",
       " ('crazy', 'fox'),\n",
       " ('crazy', 'jumped'),\n",
       " ('crazy', 'the'),\n",
       " ('crazy', 'fence'),\n",
       " ('crazy', 'is'),\n",
       " ('crazy', 'high'),\n",
       " ('crazy', 'of'),\n",
       " ('crazy', 'fox'),\n",
       " ('crazy', 'crazy'),\n",
       " ('crazy', 'fox'),\n",
       " ('crazy', 'is'),\n",
       " ('crazy', 'smart'),\n",
       " ('crazy', 'fox'),\n",
       " ('crazy', 'jumped'),\n",
       " ('crazy', 'very'),\n",
       " ('crazy', 'high'),\n",
       " ('fox', 'crazy'),\n",
       " ('fox', 'crazy'),\n",
       " ('fox', 'fox'),\n",
       " ('fox', 'jumped'),\n",
       " ('fox', 'over'),\n",
       " ('fox', 'the'),\n",
       " ('fox', 'fence'),\n",
       " ('fox', 'crazy'),\n",
       " ('fox', 'fox'),\n",
       " ('fox', 'jumped'),\n",
       " ('fox', 'the'),\n",
       " ('fox', 'fence'),\n",
       " ('fox', 'is'),\n",
       " ('fox', 'high'),\n",
       " ('fox', 'of'),\n",
       " ('fox', 'fox'),\n",
       " ('fox', 'crazy'),\n",
       " ('fox', 'fox'),\n",
       " ('fox', 'is'),\n",
       " ('fox', 'smart'),\n",
       " ('fox', 'fox'),\n",
       " ('fox', 'jumped'),\n",
       " ('fox', 'very'),\n",
       " ('fox', 'high'),\n",
       " ('is', 'crazy'),\n",
       " ('is', 'crazy'),\n",
       " ('is', 'fox'),\n",
       " ('is', 'jumped'),\n",
       " ('is', 'over'),\n",
       " ('is', 'the'),\n",
       " ('is', 'fence'),\n",
       " ('is', 'crazy'),\n",
       " ('is', 'fox'),\n",
       " ('is', 'jumped'),\n",
       " ('is', 'the'),\n",
       " ('is', 'fence'),\n",
       " ('is', 'is'),\n",
       " ('is', 'high'),\n",
       " ('is', 'of'),\n",
       " ('is', 'fox'),\n",
       " ('is', 'crazy'),\n",
       " ('is', 'fox'),\n",
       " ('is', 'is'),\n",
       " ('is', 'smart'),\n",
       " ('is', 'fox'),\n",
       " ('is', 'jumped'),\n",
       " ('is', 'very'),\n",
       " ('is', 'high'),\n",
       " ('smart', 'crazy'),\n",
       " ('smart', 'crazy'),\n",
       " ('smart', 'fox'),\n",
       " ('smart', 'jumped'),\n",
       " ('smart', 'over'),\n",
       " ('smart', 'the'),\n",
       " ('smart', 'fence'),\n",
       " ('smart', 'crazy'),\n",
       " ('smart', 'fox'),\n",
       " ('smart', 'jumped'),\n",
       " ('smart', 'the'),\n",
       " ('smart', 'fence'),\n",
       " ('smart', 'is'),\n",
       " ('smart', 'high'),\n",
       " ('smart', 'of'),\n",
       " ('smart', 'fox'),\n",
       " ('smart', 'crazy'),\n",
       " ('smart', 'fox'),\n",
       " ('smart', 'is'),\n",
       " ('smart', 'smart'),\n",
       " ('smart', 'fox'),\n",
       " ('smart', 'jumped'),\n",
       " ('smart', 'very'),\n",
       " ('smart', 'high'),\n",
       " ('fox', 'crazy'),\n",
       " ('fox', 'crazy'),\n",
       " ('fox', 'fox'),\n",
       " ('fox', 'jumped'),\n",
       " ('fox', 'over'),\n",
       " ('fox', 'the'),\n",
       " ('fox', 'fence'),\n",
       " ('fox', 'crazy'),\n",
       " ('fox', 'fox'),\n",
       " ('fox', 'jumped'),\n",
       " ('fox', 'the'),\n",
       " ('fox', 'fence'),\n",
       " ('fox', 'is'),\n",
       " ('fox', 'high'),\n",
       " ('fox', 'of'),\n",
       " ('fox', 'fox'),\n",
       " ('fox', 'crazy'),\n",
       " ('fox', 'fox'),\n",
       " ('fox', 'is'),\n",
       " ('fox', 'smart'),\n",
       " ('fox', 'fox'),\n",
       " ('fox', 'jumped'),\n",
       " ('fox', 'very'),\n",
       " ('fox', 'high'),\n",
       " ('jumped', 'crazy'),\n",
       " ('jumped', 'crazy'),\n",
       " ('jumped', 'fox'),\n",
       " ('jumped', 'jumped'),\n",
       " ('jumped', 'over'),\n",
       " ('jumped', 'the'),\n",
       " ('jumped', 'fence'),\n",
       " ('jumped', 'crazy'),\n",
       " ('jumped', 'fox'),\n",
       " ('jumped', 'jumped'),\n",
       " ('jumped', 'the'),\n",
       " ('jumped', 'fence'),\n",
       " ('jumped', 'is'),\n",
       " ('jumped', 'high'),\n",
       " ('jumped', 'of'),\n",
       " ('jumped', 'fox'),\n",
       " ('jumped', 'crazy'),\n",
       " ('jumped', 'fox'),\n",
       " ('jumped', 'is'),\n",
       " ('jumped', 'smart'),\n",
       " ('jumped', 'fox'),\n",
       " ('jumped', 'jumped'),\n",
       " ('jumped', 'very'),\n",
       " ('jumped', 'high'),\n",
       " ('very', 'crazy'),\n",
       " ('very', 'crazy'),\n",
       " ('very', 'fox'),\n",
       " ('very', 'jumped'),\n",
       " ('very', 'over'),\n",
       " ('very', 'the'),\n",
       " ('very', 'fence'),\n",
       " ('very', 'crazy'),\n",
       " ('very', 'fox'),\n",
       " ('very', 'jumped'),\n",
       " ('very', 'the'),\n",
       " ('very', 'fence'),\n",
       " ('very', 'is'),\n",
       " ('very', 'high'),\n",
       " ('very', 'of'),\n",
       " ('very', 'fox'),\n",
       " ('very', 'crazy'),\n",
       " ('very', 'fox'),\n",
       " ('very', 'is'),\n",
       " ('very', 'smart'),\n",
       " ('very', 'fox'),\n",
       " ('very', 'jumped'),\n",
       " ('very', 'very'),\n",
       " ('very', 'high'),\n",
       " ('high', 'crazy'),\n",
       " ('high', 'crazy'),\n",
       " ('high', 'fox'),\n",
       " ('high', 'jumped'),\n",
       " ('high', 'over'),\n",
       " ('high', 'the'),\n",
       " ('high', 'fence'),\n",
       " ('high', 'crazy'),\n",
       " ('high', 'fox'),\n",
       " ('high', 'jumped'),\n",
       " ('high', 'the'),\n",
       " ('high', 'fence'),\n",
       " ('high', 'is'),\n",
       " ('high', 'high'),\n",
       " ('high', 'of'),\n",
       " ('high', 'fox'),\n",
       " ('high', 'crazy'),\n",
       " ('high', 'fox'),\n",
       " ('high', 'is'),\n",
       " ('high', 'smart'),\n",
       " ('high', 'fox'),\n",
       " ('high', 'jumped'),\n",
       " ('high', 'very'),\n",
       " ('high', 'high')]"
      ]
     },
     "execution_count": 5,
     "metadata": {},
     "output_type": "execute_result"
    }
   ],
   "source": [
    "lines = sc.textFile('./data.txt')\n",
    "words = lines.map(lambda x : x.split(' ')).fold([], lambda x, y : x+y)\n",
    "words = sc.parallelize(words)\n",
    "word_cartesian = words.cartesian(words)\n",
    "word_cartesian.collect()"
   ]
  },
  {
   "cell_type": "code",
   "execution_count": 9,
   "metadata": {},
   "outputs": [
    {
     "data": {
      "text/plain": [
       "[(('of', 'very'), 1),\n",
       " (('the', 'very'), 2),\n",
       " (('of', 'the'), 2),\n",
       " (('jumped', 'fox'), 15),\n",
       " (('fence', 'fence'), 4),\n",
       " (('crazy', 'over'), 4),\n",
       " (('of', 'over'), 1),\n",
       " (('high', 'crazy'), 8),\n",
       " (('smart', 'high'), 2),\n",
       " (('the', 'is'), 4),\n",
       " (('the', 'fence'), 4),\n",
       " (('very', 'very'), 1),\n",
       " (('of', 'fence'), 2),\n",
       " (('of', 'crazy'), 4),\n",
       " (('very', 'fox'), 5),\n",
       " (('high', 'fence'), 4),\n",
       " (('fox', 'very'), 5),\n",
       " (('jumped', 'high'), 6),\n",
       " (('smart', 'smart'), 1),\n",
       " (('crazy', 'high'), 8),\n",
       " (('is', 'crazy'), 8),\n",
       " (('high', 'jumped'), 6),\n",
       " (('high', 'of'), 2),\n",
       " (('crazy', 'smart'), 4),\n",
       " (('fox', 'fox'), 25),\n",
       " (('of', 'jumped'), 3),\n",
       " (('fence', 'crazy'), 8),\n",
       " (('fox', 'smart'), 5),\n",
       " (('fence', 'very'), 2),\n",
       " (('crazy', 'fox'), 20),\n",
       " (('smart', 'the'), 2),\n",
       " (('over', 'fox'), 5),\n",
       " (('smart', 'fence'), 2),\n",
       " (('high', 'over'), 2),\n",
       " (('very', 'smart'), 1),\n",
       " (('jumped', 'very'), 3),\n",
       " (('over', 'jumped'), 3),\n",
       " (('the', 'high'), 4),\n",
       " (('very', 'jumped'), 3),\n",
       " (('jumped', 'is'), 6),\n",
       " (('is', 'the'), 4),\n",
       " (('of', 'high'), 2),\n",
       " (('high', 'very'), 2),\n",
       " (('is', 'very'), 2),\n",
       " (('crazy', 'of'), 4),\n",
       " (('the', 'smart'), 2),\n",
       " (('the', 'of'), 2),\n",
       " (('of', 'of'), 1),\n",
       " (('fox', 'crazy'), 20),\n",
       " (('jumped', 'over'), 3),\n",
       " (('is', 'fox'), 10),\n",
       " (('smart', 'is'), 2),\n",
       " (('fence', 'over'), 2),\n",
       " (('fox', 'over'), 5),\n",
       " (('high', 'smart'), 2),\n",
       " (('is', 'fence'), 4),\n",
       " (('high', 'high'), 4),\n",
       " (('jumped', 'fence'), 6),\n",
       " (('over', 'of'), 1),\n",
       " (('jumped', 'of'), 3),\n",
       " (('over', 'over'), 1),\n",
       " (('high', 'the'), 4),\n",
       " (('crazy', 'fence'), 8),\n",
       " (('jumped', 'smart'), 3),\n",
       " (('over', 'the'), 2),\n",
       " (('jumped', 'crazy'), 12),\n",
       " (('very', 'crazy'), 4),\n",
       " (('high', 'is'), 4),\n",
       " (('smart', 'of'), 1),\n",
       " (('over', 'is'), 2),\n",
       " (('is', 'high'), 4),\n",
       " (('smart', 'very'), 1),\n",
       " (('smart', 'fox'), 5),\n",
       " (('fox', 'jumped'), 15),\n",
       " (('jumped', 'jumped'), 9),\n",
       " (('is', 'of'), 2),\n",
       " (('fox', 'fence'), 10),\n",
       " (('crazy', 'is'), 8),\n",
       " (('crazy', 'very'), 4),\n",
       " (('smart', 'over'), 1),\n",
       " (('over', 'high'), 2),\n",
       " (('over', 'very'), 1),\n",
       " (('very', 'high'), 2),\n",
       " (('very', 'fence'), 2),\n",
       " (('the', 'fox'), 10),\n",
       " (('is', 'jumped'), 6),\n",
       " (('fox', 'is'), 10),\n",
       " (('crazy', 'crazy'), 16),\n",
       " (('is', 'smart'), 2),\n",
       " (('the', 'over'), 2),\n",
       " (('over', 'fence'), 2),\n",
       " (('very', 'is'), 2),\n",
       " (('fence', 'high'), 4),\n",
       " (('fence', 'smart'), 2),\n",
       " (('very', 'over'), 1),\n",
       " (('fence', 'fox'), 10),\n",
       " (('the', 'crazy'), 8),\n",
       " (('is', 'over'), 2),\n",
       " (('of', 'is'), 2),\n",
       " (('crazy', 'jumped'), 12),\n",
       " (('high', 'fox'), 10),\n",
       " (('over', 'smart'), 1),\n",
       " (('is', 'is'), 4),\n",
       " (('fence', 'jumped'), 6),\n",
       " (('very', 'the'), 2),\n",
       " (('fox', 'the'), 10),\n",
       " (('fence', 'the'), 4),\n",
       " (('crazy', 'the'), 8),\n",
       " (('smart', 'crazy'), 4),\n",
       " (('fence', 'is'), 4),\n",
       " (('fox', 'high'), 10),\n",
       " (('fence', 'of'), 2),\n",
       " (('of', 'fox'), 5),\n",
       " (('the', 'the'), 4),\n",
       " (('the', 'jumped'), 6),\n",
       " (('smart', 'jumped'), 3),\n",
       " (('of', 'smart'), 1),\n",
       " (('jumped', 'the'), 6),\n",
       " (('very', 'of'), 1),\n",
       " (('fox', 'of'), 5),\n",
       " (('over', 'crazy'), 4)]"
      ]
     },
     "execution_count": 9,
     "metadata": {},
     "output_type": "execute_result"
    }
   ],
   "source": [
    "# 去重， 计数\n",
    "bigrams = word_cartesian.distinct()\n",
    "\n",
    "n_combinations = word_cartesian.count()\n",
    "word_cartesian = word_cartesian.map(lambda x: (x, 1)).reduceByKey(lambda x,y : x+y)\n",
    "word_cartesian.collect()"
   ]
  },
  {
   "cell_type": "markdown",
   "metadata": {},
   "source": [
    "# combine-by-key"
   ]
  },
  {
   "cell_type": "code",
   "execution_count": 3,
   "metadata": {},
   "outputs": [],
   "source": [
    "rdd = sc.parallelize([('k1', 1), ('k1', 2), ('k1', 3), ('k1', 4), ('k1', 5),\n",
    "                                 ('k2', 6), ('k2', 7), ('k2', 8),\n",
    "                                 ('k3', 9), ('k4', 10)])"
   ]
  },
  {
   "cell_type": "code",
   "execution_count": 4,
   "metadata": {},
   "outputs": [
    {
     "data": {
      "text/plain": [
       "[('k1', (15, 5)), ('k3', (9, 1)), ('k4', (10, 1)), ('k2', (21, 3))]"
      ]
     },
     "execution_count": 4,
     "metadata": {},
     "output_type": "execute_result"
    }
   ],
   "source": [
    "rdd.combineByKey( \n",
    "                                (lambda x: (x, 1)), \n",
    "                                (lambda x, y: (x[0] + y, x[1] + 1)), \n",
    "                                (lambda x, y: (x[0] + y[0], x[1] + y[1])) \n",
    "                               ).collect()"
   ]
  },
  {
   "cell_type": "code",
   "execution_count": 6,
   "metadata": {},
   "outputs": [
    {
     "data": {
      "text/plain": [
       "[('k1', (15, 5)), ('k3', (9, 1)), ('k4', (10, 1)), ('k2', (21, 3))]"
      ]
     },
     "execution_count": 6,
     "metadata": {},
     "output_type": "execute_result"
    }
   ],
   "source": [
    "# 等价于楼上\n",
    "rdd.map(lambda x : (x[0], (x[1], 1))).reduceByKey(lambda x, y: (x[0]+y[0], x[1]+y[1])).collect()"
   ]
  },
  {
   "cell_type": "markdown",
   "metadata": {},
   "source": [
    "# dna-count"
   ]
  },
  {
   "cell_type": "code",
   "execution_count": 2,
   "metadata": {},
   "outputs": [
    {
     "data": {
      "text/plain": [
       "['ATATCCCCGGGAT', 'ATCGATCGATATA']"
      ]
     },
     "execution_count": 2,
     "metadata": {},
     "output_type": "execute_result"
    }
   ],
   "source": [
    "dna_seq = sc.textFile('./dna_seq.txt')\n",
    "\n",
    "dna_seq.collect()"
   ]
  },
  {
   "cell_type": "code",
   "execution_count": 11,
   "metadata": {
    "scrolled": true
   },
   "outputs": [
    {
     "data": {
      "text/plain": [
       "[('A', 1),\n",
       " ('T', 1),\n",
       " ('A', 1),\n",
       " ('T', 1),\n",
       " ('C', 1),\n",
       " ('C', 1),\n",
       " ('C', 1),\n",
       " ('C', 1),\n",
       " ('G', 1),\n",
       " ('G', 1),\n",
       " ('G', 1),\n",
       " ('A', 1),\n",
       " ('T', 1),\n",
       " ('A', 1),\n",
       " ('T', 1),\n",
       " ('C', 1),\n",
       " ('G', 1),\n",
       " ('A', 1),\n",
       " ('T', 1),\n",
       " ('C', 1),\n",
       " ('G', 1),\n",
       " ('A', 1),\n",
       " ('T', 1),\n",
       " ('A', 1),\n",
       " ('T', 1),\n",
       " ('A', 1)]"
      ]
     },
     "execution_count": 11,
     "metadata": {},
     "output_type": "execute_result"
    }
   ],
   "source": [
    "#   dnas = sc.parallelize(dna_seq.fold('', lambda x, y: x+y)).map(lambda x: (x, 1)).collect()\n",
    "dnas = dna_seq.flatMap(lambda x : [(c, 1) for c in list(x)]).collect()\n",
    "dnas"
   ]
  },
  {
   "cell_type": "code",
   "execution_count": 12,
   "metadata": {},
   "outputs": [
    {
     "data": {
      "text/plain": [
       "[('T', 7), ('G', 5), ('C', 6), ('A', 8)]"
      ]
     },
     "execution_count": 12,
     "metadata": {},
     "output_type": "execute_result"
    }
   ],
   "source": [
    "base_count = sc.parallelize(dnas).reduceByKey(lambda x ,y: x+y)\n",
    "base_count.collect()"
   ]
  },
  {
   "cell_type": "markdown",
   "metadata": {},
   "source": [
    "### solution 2 : custom function"
   ]
  },
  {
   "cell_type": "code",
   "execution_count": 14,
   "metadata": {},
   "outputs": [
    {
     "data": {
      "text/plain": [
       "[('A', 3),\n",
       " ('T', 3),\n",
       " ('C', 4),\n",
       " ('G', 3),\n",
       " ('A', 5),\n",
       " ('T', 4),\n",
       " ('C', 2),\n",
       " ('G', 2)]"
      ]
     },
     "execution_count": 14,
     "metadata": {},
     "output_type": "execute_result"
    }
   ],
   "source": [
    "def mapper(seq):\n",
    "    freq = dict()\n",
    "    for x in list(seq):\n",
    "        if x in freq:\n",
    "            freq[x] += 1\n",
    "        else :\n",
    "            freq[x] = 1\n",
    "    kv = [(x, freq[x]) for x in freq]\n",
    "    return kv\n",
    "\n",
    "dna_count = dna_seq.flatMap(mapper)\n",
    "dna_count.collect()"
   ]
  },
  {
   "cell_type": "code",
   "execution_count": 15,
   "metadata": {},
   "outputs": [
    {
     "data": {
      "text/plain": [
       "[('C', 6), ('A', 8), ('T', 7), ('G', 5)]"
      ]
     },
     "execution_count": 15,
     "metadata": {},
     "output_type": "execute_result"
    }
   ],
   "source": [
    "dna_count = dna_count.reduceByKey(lambda x,y: x+y)\n",
    "dna_count.collect()"
   ]
  },
  {
   "cell_type": "markdown",
   "metadata": {},
   "source": [
    "# mapPartitions()"
   ]
  },
  {
   "cell_type": "markdown",
   "metadata": {},
   "source": [
    "类似于map(),但是不同于map(),mapPartitions()在每一个分区（块）上单独运行,传入函数的参数必须为一个可迭代的对象。\n",
    "分区：在初始化RDD对象时指定或默认的分区。\n",
    "\n",
    "例如：要寻找RDD对象每个分区中的最大最小值，mapPartitions()就很合适。"
   ]
  },
  {
   "cell_type": "code",
   "execution_count": 38,
   "metadata": {},
   "outputs": [
    {
     "name": "stdout",
     "output_type": "stream",
     "text": [
      "[1, 2, 3, 4, 5, 6, 7, 8, 9, 10]\n"
     ]
    }
   ],
   "source": [
    "nums = [1,2,3,4,5,6,7,8,9,10]\n",
    "nums_rdd = sc.parallelize(nums, 3)\n",
    "print(nums_rdd.collect())"
   ]
  },
  {
   "cell_type": "code",
   "execution_count": 40,
   "metadata": {},
   "outputs": [
    {
     "data": {
      "text/plain": [
       "3"
      ]
     },
     "execution_count": 40,
     "metadata": {},
     "output_type": "execute_result"
    }
   ],
   "source": [
    "# rdd object distributed across five partitions\n",
    "nums_rdd.getNumPartitions()\n"
   ]
  },
  {
   "cell_type": "code",
   "execution_count": 41,
   "metadata": {},
   "outputs": [
    {
     "data": {
      "text/plain": [
       "[6, 15, 34]"
      ]
     },
     "execution_count": 41,
     "metadata": {},
     "output_type": "execute_result"
    }
   ],
   "source": [
    "def adder(iterator):\n",
    "    yield sum(iterator)\n",
    "\n",
    "nums_rdd.mapPartitions(adder).collect()"
   ]
  },
  {
   "cell_type": "markdown",
   "metadata": {},
   "source": [
    "# min max"
   ]
  },
  {
   "cell_type": "code",
   "execution_count": 57,
   "metadata": {},
   "outputs": [
    {
     "data": {
      "text/plain": [
       "[1, 3, 4, 6, 7, 10]"
      ]
     },
     "execution_count": 57,
     "metadata": {},
     "output_type": "execute_result"
    }
   ],
   "source": [
    "def minmax(iter):\n",
    "    firstiter = 0\n",
    "    for x in iter:\n",
    "        if firstiter == 0:\n",
    "            min_num = x\n",
    "            max_num = x\n",
    "            firstiter = 1\n",
    "        else:\n",
    "            if x > max_num:\n",
    "                max_num = x\n",
    "            if x < min_num:\n",
    "                min_num = x\n",
    "    return (min_num, max_num)\n",
    "\n",
    "nums_rdd.mapPartitions(minmax).collect()"
   ]
  },
  {
   "cell_type": "markdown",
   "metadata": {},
   "source": [
    "# top-N"
   ]
  },
  {
   "cell_type": "code",
   "execution_count": 59,
   "metadata": {},
   "outputs": [
    {
     "data": {
      "text/plain": [
       "[1, 2, 3, 4, 5, 6, 7, 8, 9, 10]"
      ]
     },
     "execution_count": 59,
     "metadata": {},
     "output_type": "execute_result"
    }
   ],
   "source": [
    "nums"
   ]
  },
  {
   "cell_type": "code",
   "execution_count": 62,
   "metadata": {},
   "outputs": [
    {
     "data": {
      "text/plain": [
       "[1, 2, 3]"
      ]
     },
     "execution_count": 62,
     "metadata": {},
     "output_type": "execute_result"
    }
   ],
   "source": [
    "top_3 = nums_rdd.takeOrdered(3)\n",
    "top_3"
   ]
  },
  {
   "cell_type": "code",
   "execution_count": 64,
   "metadata": {},
   "outputs": [
    {
     "data": {
      "text/plain": [
       "[10, 9, 8]"
      ]
     },
     "execution_count": 64,
     "metadata": {},
     "output_type": "execute_result"
    }
   ],
   "source": [
    "bottom_3 = nums_rdd.takeOrdered(3, key = lambda x: -x)\n",
    "bottom_3"
   ]
  },
  {
   "cell_type": "code",
   "execution_count": 65,
   "metadata": {},
   "outputs": [
    {
     "data": {
      "text/plain": [
       "[(1, 'z2'), (2, 'z3'), (3, 'z5')]"
      ]
     },
     "execution_count": 65,
     "metadata": {},
     "output_type": "execute_result"
    }
   ],
   "source": [
    "kv = [(10,\"z1\"), (1,\"z2\"), (2,\"z3\"), (9,\"z4\"), (3,\"z5\"), (4,\"z6\"), (5,\"z7\"), (6,\"z8\"), (7,\"z9\")]\n",
    "sc.parallelize(kv).takeOrdered(3, key=lambda x: x[0])"
   ]
  },
  {
   "cell_type": "code",
   "execution_count": 66,
   "metadata": {},
   "outputs": [
    {
     "data": {
      "text/plain": [
       "[(10, 'z1'), (1, 'z2'), (2, 'z3')]"
      ]
     },
     "execution_count": 66,
     "metadata": {},
     "output_type": "execute_result"
    }
   ],
   "source": [
    "kv = [(10,\"z1\"), (1,\"z2\"), (2,\"z3\"), (9,\"z4\"), (3,\"z5\"), (4,\"z6\"), (5,\"z7\"), (6,\"z8\"), (7,\"z9\")]\n",
    "sc.parallelize(kv).takeOrdered(3, key=lambda x: x[1])"
   ]
  },
  {
   "cell_type": "code",
   "execution_count": 67,
   "metadata": {},
   "outputs": [
    {
     "data": {
      "text/plain": [
       "[(10, 'z1'), (9, 'z4'), (7, 'z9')]"
      ]
     },
     "execution_count": 67,
     "metadata": {},
     "output_type": "execute_result"
    }
   ],
   "source": [
    "kv = [(10,\"z1\"), (1,\"z2\"), (2,\"z3\"), (9,\"z4\"), (3,\"z5\"), (4,\"z6\"), (5,\"z7\"), (6,\"z8\"), (7,\"z9\")]\n",
    "sc.parallelize(kv).takeOrdered(3, key=lambda x: -x[0])"
   ]
  }
 ],
 "metadata": {
  "kernelspec": {
   "display_name": "Python 3",
   "language": "python",
   "name": "python3"
  },
  "language_info": {
   "codemirror_mode": {
    "name": "ipython",
    "version": 3
   },
   "file_extension": ".py",
   "mimetype": "text/x-python",
   "name": "python",
   "nbconvert_exporter": "python",
   "pygments_lexer": "ipython3",
   "version": "3.7.2"
  }
 },
 "nbformat": 4,
 "nbformat_minor": 2
}
