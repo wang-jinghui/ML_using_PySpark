{
 "cells": [
  {
   "cell_type": "markdown",
   "metadata": {},
   "source": [
    "# add-indices"
   ]
  },
  {
   "cell_type": "code",
   "execution_count": 1,
   "metadata": {},
   "outputs": [],
   "source": [
    "from pyspark import SparkConf, SparkContext\n",
    "sc = SparkContext()"
   ]
  },
  {
   "cell_type": "code",
   "execution_count": 18,
   "metadata": {},
   "outputs": [
    {
     "data": {
      "text/plain": [
       "{('g1', 2), ('g2', 4), ('g3', 3), ('g4', 8)}"
      ]
     },
     "execution_count": 18,
     "metadata": {},
     "output_type": "execute_result"
    }
   ],
   "source": [
    "a = {('g1', 2), ('g2', 4), ('g3', 3), ('g4', 8)}\n",
    "a"
   ]
  },
  {
   "cell_type": "code",
   "execution_count": 19,
   "metadata": {},
   "outputs": [
    {
     "data": {
      "text/plain": [
       "[('g4', 8), ('g3', 3), ('g1', 2), ('g2', 4)]"
      ]
     },
     "execution_count": 19,
     "metadata": {},
     "output_type": "execute_result"
    }
   ],
   "source": [
    "# rdd object\n",
    "rdd = sc.parallelize(a)\n",
    "rdd.collect()"
   ]
  },
  {
   "cell_type": "code",
   "execution_count": 20,
   "metadata": {},
   "outputs": [
    {
     "data": {
      "text/plain": [
       "[('g1', 2), ('g2', 4), ('g3', 3), ('g4', 8)]"
      ]
     },
     "execution_count": 20,
     "metadata": {},
     "output_type": "execute_result"
    }
   ],
   "source": [
    "# sort by key\n",
    "sorted_rdd = rdd.sortByKey()\n",
    "sorted_rdd.collect()"
   ]
  },
  {
   "cell_type": "markdown",
   "metadata": {},
   "source": [
    "```python\n",
    "# k, v---> v, k : Error\n",
    "rdd2 = rdd.map(lambda (x,y) : (y,x))\n",
    "rdd2.collect()\n",
    "```"
   ]
  },
  {
   "cell_type": "code",
   "execution_count": 22,
   "metadata": {},
   "outputs": [
    {
     "data": {
      "text/plain": [
       "[('g4', 8), ('g3', 3), ('g2', 4), ('g1', 2)]"
      ]
     },
     "execution_count": 22,
     "metadata": {},
     "output_type": "execute_result"
    }
   ],
   "source": [
    "sorted_rdd = rdd.sortByKey(False)\n",
    "sorted_rdd.collect()"
   ]
  },
  {
   "cell_type": "code",
   "execution_count": 23,
   "metadata": {},
   "outputs": [
    {
     "data": {
      "text/plain": [
       "[(('g4', 8), 0), (('g3', 3), 1), (('g2', 4), 2), (('g1', 2), 3)]"
      ]
     },
     "execution_count": 23,
     "metadata": {},
     "output_type": "execute_result"
    }
   ],
   "source": [
    "indices_rdd = sorted_rdd.zipWithIndex()\n",
    "indices_rdd.collect()"
   ]
  },
  {
   "cell_type": "markdown",
   "metadata": {},
   "source": [
    "# basic-average"
   ]
  },
  {
   "cell_type": "code",
   "execution_count": 24,
   "metadata": {},
   "outputs": [
    {
     "data": {
      "text/plain": [
       "[1, 2, 3, 4, 5, 6, 7, 8, 9, 0]"
      ]
     },
     "execution_count": 24,
     "metadata": {},
     "output_type": "execute_result"
    }
   ],
   "source": [
    "nums = sc.parallelize([1,2,3,4,5,6,7,8,9,0])\n",
    "nums.collect()"
   ]
  },
  {
   "cell_type": "code",
   "execution_count": 26,
   "metadata": {},
   "outputs": [
    {
     "data": {
      "text/plain": [
       "4.5"
      ]
     },
     "execution_count": 26,
     "metadata": {},
     "output_type": "execute_result"
    }
   ],
   "source": [
    "numAndcount = nums.map(lambda x : (x, 1)).fold((0, 0), (lambda x,y : (x[0] + y[0], x[1] + y[1])))\n",
    "num_avg = float(numAndcount[0]/numAndcount[1])\n",
    "num_avg"
   ]
  },
  {
   "cell_type": "code",
   "execution_count": 27,
   "metadata": {},
   "outputs": [
    {
     "data": {
      "text/plain": [
       "[(1, 1),\n",
       " (2, 1),\n",
       " (3, 1),\n",
       " (4, 1),\n",
       " (5, 1),\n",
       " (6, 1),\n",
       " (7, 1),\n",
       " (8, 1),\n",
       " (9, 1),\n",
       " (0, 1)]"
      ]
     },
     "execution_count": 27,
     "metadata": {},
     "output_type": "execute_result"
    }
   ],
   "source": [
    "nums.map(lambda x : (x, 1)).collect()"
   ]
  },
  {
   "cell_type": "code",
   "execution_count": 31,
   "metadata": {},
   "outputs": [
    {
     "data": {
      "text/plain": [
       "(45, 10)"
      ]
     },
     "execution_count": 31,
     "metadata": {},
     "output_type": "execute_result"
    }
   ],
   "source": [
    "nums.map(lambda x : (x, 1)).fold((0, 0), (lambda x,y : (x[0] + y[0], x[1] + y[1])))             # x, y : (x[0], x[1]), (y[0], y[1])"
   ]
  },
  {
   "cell_type": "markdown",
   "metadata": {},
   "source": [
    "# basic-filter"
   ]
  },
  {
   "cell_type": "code",
   "execution_count": 34,
   "metadata": {},
   "outputs": [
    {
     "data": {
      "text/plain": [
       "[1, 3, 4, 5, 6, 7, 8, 2, 6, 7, 23, 35]"
      ]
     },
     "execution_count": 34,
     "metadata": {},
     "output_type": "execute_result"
    }
   ],
   "source": [
    "nums = sc.parallelize([1,3,4,5,6,7,8, 2, 6, 7, 23, 35])\n",
    "nums.collect()"
   ]
  },
  {
   "cell_type": "code",
   "execution_count": 35,
   "metadata": {},
   "outputs": [
    {
     "data": {
      "text/plain": [
       "[1, 3, 5, 7, 7, 23, 35]"
      ]
     },
     "execution_count": 35,
     "metadata": {},
     "output_type": "execute_result"
    }
   ],
   "source": [
    "# odd \n",
    "odds = nums.filter(lambda x : x%2 == 1)\n",
    "odds.collect()"
   ]
  },
  {
   "cell_type": "code",
   "execution_count": 36,
   "metadata": {},
   "outputs": [
    {
     "data": {
      "text/plain": [
       "[4, 6, 8, 2, 6]"
      ]
     },
     "execution_count": 36,
     "metadata": {},
     "output_type": "execute_result"
    }
   ],
   "source": [
    "evens = nums.filter(lambda x : x%2 == 0)\n",
    "evens.collect()"
   ]
  },
  {
   "cell_type": "markdown",
   "metadata": {},
   "source": [
    "# basic-join"
   ]
  },
  {
   "cell_type": "code",
   "execution_count": 37,
   "metadata": {},
   "outputs": [
    {
     "data": {
      "text/plain": [
       "['k1,v1', 'k1,v2', 'k2,v3', 'k2,v4', 'k3,v7', 'k3,v8', 'k3,v9']"
      ]
     },
     "execution_count": 37,
     "metadata": {},
     "output_type": "execute_result"
    }
   ],
   "source": [
    "R_txt = sc.textFile('./R.txt')\n",
    "R_txt.collect()"
   ]
  },
  {
   "cell_type": "code",
   "execution_count": 38,
   "metadata": {},
   "outputs": [
    {
     "data": {
      "text/plain": [
       "['k1,v11', 'k1,v22', 'k1,v33', 'k2,v55', 'k4,v77', 'k5,v88']"
      ]
     },
     "execution_count": 38,
     "metadata": {},
     "output_type": "execute_result"
    }
   ],
   "source": [
    "S_txt = sc.textFile('./S.txt')\n",
    "S_txt.collect()"
   ]
  },
  {
   "cell_type": "code",
   "execution_count": 39,
   "metadata": {},
   "outputs": [
    {
     "data": {
      "text/plain": [
       "[['k1', 'v1'],\n",
       " ['k1', 'v2'],\n",
       " ['k2', 'v3'],\n",
       " ['k2', 'v4'],\n",
       " ['k3', 'v7'],\n",
       " ['k3', 'v8'],\n",
       " ['k3', 'v9']]"
      ]
     },
     "execution_count": 39,
     "metadata": {},
     "output_type": "execute_result"
    }
   ],
   "source": [
    "r1 = R_txt.map(lambda x : x.split(','))\n",
    "r1.collect()"
   ]
  },
  {
   "cell_type": "code",
   "execution_count": 40,
   "metadata": {},
   "outputs": [
    {
     "data": {
      "text/plain": [
       "[('k1', 'v1'),\n",
       " ('k1', 'v2'),\n",
       " ('k2', 'v3'),\n",
       " ('k2', 'v4'),\n",
       " ('k3', 'v7'),\n",
       " ('k3', 'v8'),\n",
       " ('k3', 'v9')]"
      ]
     },
     "execution_count": 40,
     "metadata": {},
     "output_type": "execute_result"
    }
   ],
   "source": [
    "r2 = r1.flatMap(lambda x : [(x[0], x[1])])\n",
    "r2.collect()"
   ]
  },
  {
   "cell_type": "code",
   "execution_count": 41,
   "metadata": {},
   "outputs": [
    {
     "data": {
      "text/plain": [
       "[['k1', 'v11'],\n",
       " ['k1', 'v22'],\n",
       " ['k1', 'v33'],\n",
       " ['k2', 'v55'],\n",
       " ['k4', 'v77'],\n",
       " ['k5', 'v88']]"
      ]
     },
     "execution_count": 41,
     "metadata": {},
     "output_type": "execute_result"
    }
   ],
   "source": [
    "s1 = S_txt.map(lambda x : x.split(','))\n",
    "s1.collect()"
   ]
  },
  {
   "cell_type": "code",
   "execution_count": 46,
   "metadata": {},
   "outputs": [
    {
     "data": {
      "text/plain": [
       "[('k1', 'v11'),\n",
       " ('k1', 'v22'),\n",
       " ('k1', 'v33'),\n",
       " ('k2', 'v55'),\n",
       " ('k4', 'v77'),\n",
       " ('k5', 'v88')]"
      ]
     },
     "execution_count": 46,
     "metadata": {},
     "output_type": "execute_result"
    }
   ],
   "source": [
    "s2 = s1.flatMap(lambda x : [(x[0], x[1])])\n",
    "s2.collect()"
   ]
  },
  {
   "cell_type": "code",
   "execution_count": 47,
   "metadata": {},
   "outputs": [
    {
     "data": {
      "text/plain": [
       "[('k1', ('v1', 'v11')),\n",
       " ('k1', ('v1', 'v22')),\n",
       " ('k1', ('v1', 'v33')),\n",
       " ('k1', ('v2', 'v11')),\n",
       " ('k1', ('v2', 'v22')),\n",
       " ('k1', ('v2', 'v33')),\n",
       " ('k2', ('v3', 'v55')),\n",
       " ('k2', ('v4', 'v55'))]"
      ]
     },
     "execution_count": 47,
     "metadata": {},
     "output_type": "execute_result"
    }
   ],
   "source": [
    "RjoinedS = r2.join(s2)\n",
    "RjoinedS.collect()"
   ]
  },
  {
   "cell_type": "code",
   "execution_count": 48,
   "metadata": {},
   "outputs": [
    {
     "data": {
      "text/plain": [
       "[('k1', ('v1', 'v11')),\n",
       " ('k1', ('v1', 'v22')),\n",
       " ('k1', ('v1', 'v33')),\n",
       " ('k1', ('v2', 'v11')),\n",
       " ('k1', ('v2', 'v22')),\n",
       " ('k1', ('v2', 'v33')),\n",
       " ('k2', ('v3', 'v55')),\n",
       " ('k2', ('v4', 'v55')),\n",
       " ('k3', ('v7', None)),\n",
       " ('k3', ('v8', None)),\n",
       " ('k3', ('v9', None))]"
      ]
     },
     "execution_count": 48,
     "metadata": {},
     "output_type": "execute_result"
    }
   ],
   "source": [
    "left_joined = r2.leftOuterJoin(s2)\n",
    "left_joined.collect()"
   ]
  },
  {
   "cell_type": "code",
   "execution_count": 49,
   "metadata": {},
   "outputs": [
    {
     "data": {
      "text/plain": [
       "[('k1', ('v1', 'v11')),\n",
       " ('k1', ('v1', 'v22')),\n",
       " ('k1', ('v1', 'v33')),\n",
       " ('k1', ('v2', 'v11')),\n",
       " ('k1', ('v2', 'v22')),\n",
       " ('k1', ('v2', 'v33')),\n",
       " ('k2', ('v3', 'v55')),\n",
       " ('k2', ('v4', 'v55')),\n",
       " ('k4', (None, 'v77')),\n",
       " ('k5', (None, 'v88'))]"
      ]
     },
     "execution_count": 49,
     "metadata": {},
     "output_type": "execute_result"
    }
   ],
   "source": [
    "right_joined = r2.rightOuterJoin(s2)\n",
    "right_joined.collect()"
   ]
  }
 ],
 "metadata": {
  "kernelspec": {
   "display_name": "Python 3",
   "language": "python",
   "name": "python3"
  },
  "language_info": {
   "codemirror_mode": {
    "name": "ipython",
    "version": 3
   },
   "file_extension": ".py",
   "mimetype": "text/x-python",
   "name": "python",
   "nbconvert_exporter": "python",
   "pygments_lexer": "ipython3",
   "version": "3.7.2"
  }
 },
 "nbformat": 4,
 "nbformat_minor": 2
}
