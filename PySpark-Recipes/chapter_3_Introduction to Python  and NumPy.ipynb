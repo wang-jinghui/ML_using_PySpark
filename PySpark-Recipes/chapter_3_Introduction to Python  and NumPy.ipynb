{
 "cells": [
  {
   "cell_type": "markdown",
   "metadata": {},
   "source": [
    "### Python data types"
   ]
  },
  {
   "cell_type": "code",
   "execution_count": 9,
   "metadata": {},
   "outputs": [],
   "source": [
    "# Create a long integer\n",
    "\n",
    "# 在Python 3里，只有一种整数类型 int，表示为长整型，没有 python2 中的 Long "
   ]
  },
  {
   "cell_type": "code",
   "execution_count": 10,
   "metadata": {},
   "outputs": [
    {
     "data": {
      "text/plain": [
       "'P'"
      ]
     },
     "execution_count": 10,
     "metadata": {},
     "output_type": "execute_result"
    }
   ],
   "source": [
    "# Create a String\n",
    "\n",
    "pythonStr = \"Learning PySpark is fun\"\n",
    "pythonStr\n",
    "pythonStr[9]"
   ]
  },
  {
   "cell_type": "code",
   "execution_count": 11,
   "metadata": {},
   "outputs": [
    {
     "data": {
      "text/plain": [
       "(9, -1)"
      ]
     },
     "execution_count": 11,
     "metadata": {},
     "output_type": "execute_result"
    }
   ],
   "source": [
    "# find \n",
    "\n",
    "pythonStr[9]\n",
    "pythonStr.find(\"Py\"),pythonStr.find(\"py\")"
   ]
  },
  {
   "cell_type": "code",
   "execution_count": 12,
   "metadata": {},
   "outputs": [
    {
     "data": {
      "text/plain": [
       "(True, True)"
      ]
     },
     "execution_count": 12,
     "metadata": {},
     "output_type": "execute_result"
    }
   ],
   "source": [
    "# Check String\n",
    "\n",
    "pythonStr.startswith(\"Learning\"),pythonStr.endswith(\"fun\")"
   ]
  },
  {
   "cell_type": "markdown",
   "metadata": {},
   "source": [
    "### List"
   ]
  },
  {
   "cell_type": "code",
   "execution_count": 1,
   "metadata": {},
   "outputs": [
    {
     "data": {
      "text/plain": [
       "(list, str, int)"
      ]
     },
     "execution_count": 1,
     "metadata": {},
     "output_type": "execute_result"
    }
   ],
   "source": [
    "pythonList = [2.3,3.4,4.3,2.4,2.3,4.0]\n",
    " \n",
    "pythonList1 = [\"a\",1]\n",
    "pythonList1\n",
    "\n",
    "type(pythonList1),type (pythonList1[0]),type (pythonList1[1])"
   ]
  },
  {
   "cell_type": "code",
   "execution_count": 7,
   "metadata": {},
   "outputs": [
    {
     "name": "stdout",
     "output_type": "stream",
     "text": [
      "[2.3, 2.3, 2.4, 3.4, 4.0, 4.3]\n",
      "[4.3, 4.0, 3.4, 2.4, 2.3, 2.3]\n"
     ]
    }
   ],
   "source": [
    "# Sorting a List\n",
    "\n",
    "pythonList = [2.3,3.4,4.3,2.4,2.3,4.0]\n",
    " \n",
    "pythonList.sort()\n",
    "\n",
    "print(pythonList)\n",
    "\n",
    "pythonList.sort(reverse=True)\n",
    "\n",
    "print(pythonList)"
   ]
  },
  {
   "cell_type": "markdown",
   "metadata": {},
   "source": [
    "### Tuple"
   ]
  },
  {
   "cell_type": "code",
   "execution_count": 8,
   "metadata": {},
   "outputs": [
    {
     "data": {
      "text/plain": [
       "(tuple, 'a')"
      ]
     },
     "execution_count": 8,
     "metadata": {},
     "output_type": "execute_result"
    }
   ],
   "source": [
    "# Creating a Tuple\n",
    "\n",
    "pythonTuple = (2.0,9,\"a\",True,\"a\")\n",
    "\n",
    "type(pythonTuple), pythonTuple[2]"
   ]
  },
  {
   "cell_type": "code",
   "execution_count": 10,
   "metadata": {},
   "outputs": [
    {
     "name": "stdout",
     "output_type": "stream",
     "text": [
      "2\n",
      "2\n"
     ]
    }
   ],
   "source": [
    "# Getting index of an element of a Tuple.\n",
    "\n",
    "print(pythonTuple.index('a'))\n",
    "\n",
    "# Counting occurrence of a Tuple element.\n",
    "\n",
    "print(pythonTuple.count(\"a\"))"
   ]
  },
  {
   "cell_type": "markdown",
   "metadata": {},
   "source": [
    "### Set"
   ]
  },
  {
   "cell_type": "code",
   "execution_count": 11,
   "metadata": {},
   "outputs": [
    {
     "data": {
      "text/plain": [
       "{'Book', 'NoteBook', 'Pen', 'Pencil'}"
      ]
     },
     "execution_count": 11,
     "metadata": {},
     "output_type": "execute_result"
    }
   ],
   "source": [
    "# Creating a Set.\n",
    "\n",
    "pythonSet = {'Book','Pen','NoteBook','Pencil','Book'}\n",
    "pythonSet"
   ]
  },
  {
   "cell_type": "code",
   "execution_count": 12,
   "metadata": {},
   "outputs": [
    {
     "data": {
      "text/plain": [
       "{'Book', 'Eraser', 'NoteBook', 'Pen', 'Pencil'}"
      ]
     },
     "execution_count": 12,
     "metadata": {},
     "output_type": "execute_result"
    }
   ],
   "source": [
    "# Adding a new element to a set.\n",
    "\n",
    "pythonSet.add(\"Eraser\")\n",
    "pythonSet"
   ]
  },
  {
   "cell_type": "code",
   "execution_count": 13,
   "metadata": {},
   "outputs": [
    {
     "data": {
      "text/plain": [
       "{'Book', 'Diary', 'Eraser', 'Marker', 'NoteBook', 'Pen', 'Pencil'}"
      ]
     },
     "execution_count": 13,
     "metadata": {},
     "output_type": "execute_result"
    }
   ],
   "source": [
    "# Union on Sets.\n",
    "\n",
    "pythonSet1 = {'NoteBook','Pencil','Diary','Marker'}\n",
    "pythonSet1\n",
    "pythonSet.union(pythonSet1)"
   ]
  },
  {
   "cell_type": "code",
   "execution_count": 14,
   "metadata": {},
   "outputs": [
    {
     "data": {
      "text/plain": [
       "{'NoteBook', 'Pencil'}"
      ]
     },
     "execution_count": 14,
     "metadata": {},
     "output_type": "execute_result"
    }
   ],
   "source": [
    "# intersection on Sets.\n",
    "\n",
    "pythonSet.intersection(pythonSet1)"
   ]
  },
  {
   "cell_type": "markdown",
   "metadata": {},
   "source": [
    "### Dict"
   ]
  },
  {
   "cell_type": "code",
   "execution_count": 15,
   "metadata": {},
   "outputs": [
    {
     "data": {
      "text/plain": [
       "('Pencil', 'Pencil', None)"
      ]
     },
     "execution_count": 15,
     "metadata": {},
     "output_type": "execute_result"
    }
   ],
   "source": [
    "# Create a dictionary\n",
    "\n",
    "pythonDict = {'item1':'Pencil','item2':'Pen', 'item3':'NoteBook'}\n",
    "\n",
    "\n",
    "pythonDict['item1'], pythonDict.get('item1'), pythonDict.get('item4')"
   ]
  },
  {
   "cell_type": "markdown",
   "metadata": {},
   "source": [
    "### Lambda function"
   ]
  },
  {
   "cell_type": "code",
   "execution_count": 16,
   "metadata": {},
   "outputs": [
    {
     "data": {
      "text/plain": [
       "(True, False)"
      ]
     },
     "execution_count": 16,
     "metadata": {},
     "output_type": "execute_result"
    }
   ],
   "source": [
    "# Lambda Function \n",
    "\n",
    "isEvenInteger = lambda ourNum : ourNum%2 == 0\n",
    "\n",
    "isEvenInteger(4),isEvenInteger(5)\n"
   ]
  }
 ],
 "metadata": {
  "kernelspec": {
   "display_name": "Python 3",
   "language": "python",
   "name": "python3"
  },
  "language_info": {
   "codemirror_mode": {
    "name": "ipython",
    "version": 3
   },
   "file_extension": ".py",
   "mimetype": "text/x-python",
   "name": "python",
   "nbconvert_exporter": "python",
   "pygments_lexer": "ipython3",
   "version": "3.7.2"
  }
 },
 "nbformat": 4,
 "nbformat_minor": 2
}
