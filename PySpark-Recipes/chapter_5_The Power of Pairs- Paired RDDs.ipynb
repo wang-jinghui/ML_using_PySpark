{
 "cells": [
  {
   "cell_type": "markdown",
   "metadata": {},
   "source": [
    "### Paired RDD (k:v)"
   ]
  },
  {
   "cell_type": "code",
   "execution_count": 2,
   "metadata": {},
   "outputs": [],
   "source": [
    "from pyspark.sql import SparkSession\n",
    "\n",
    "import pyspark.sql.functions as F\n",
    "from pyspark.sql.types import *\n",
    "\n",
    "spark = SparkSession.builder.appName('Paired_RDD').getOrCreate()"
   ]
  },
  {
   "cell_type": "code",
   "execution_count": 3,
   "metadata": {},
   "outputs": [
    {
     "data": {
      "text/plain": [
       "(1, 0)"
      ]
     },
     "execution_count": 3,
     "metadata": {},
     "output_type": "execute_result"
    }
   ],
   "source": [
    "temp   =  ['b' , 'd', 'm', 't', 'e', 'u']\n",
    "\n",
    "rdd_1 = spark.sparkContext.parallelize(temp,2)\n",
    "\n",
    "# 判断字符是否为元音字母\n",
    "\n",
    "def vowelCheckFunction( data) :\n",
    "     if data in ['a','e','i','o','u']:\n",
    "        return 1\n",
    "     else :\n",
    "        return 0\n",
    "\n",
    "vowelCheckFunction('a'),vowelCheckFunction('b')"
   ]
  },
  {
   "cell_type": "code",
   "execution_count": 4,
   "metadata": {},
   "outputs": [
    {
     "data": {
      "text/plain": [
       "[('b', 0), ('d', 0), ('m', 0), ('t', 0), ('e', 1), ('u', 1)]"
      ]
     },
     "execution_count": 4,
     "metadata": {},
     "output_type": "execute_result"
    }
   ],
   "source": [
    "# add new column\n",
    "\n",
    "rdd_2 = rdd_1.map(lambda data: (data, vowelCheckFunction(data)))\n",
    "\n",
    "rdd_2.collect()"
   ]
  },
  {
   "cell_type": "code",
   "execution_count": 7,
   "metadata": {},
   "outputs": [
    {
     "data": {
      "text/plain": [
       "['b', 'd', 'm', 't', 'e', 'u']"
      ]
     },
     "execution_count": 7,
     "metadata": {},
     "output_type": "execute_result"
    }
   ],
   "source": [
    "rdd_1.keys().collect()"
   ]
  },
  {
   "cell_type": "code",
   "execution_count": 8,
   "metadata": {},
   "outputs": [
    {
     "data": {
      "text/plain": [
       "[0, 0, 0, 0, 1, 1]"
      ]
     },
     "execution_count": 8,
     "metadata": {},
     "output_type": "execute_result"
    }
   ],
   "source": [
    "rdd_2.values().collect()"
   ]
  },
  {
   "cell_type": "markdown",
   "metadata": {},
   "source": [
    "### 聚合(Agg)"
   ]
  },
  {
   "cell_type": "code",
   "execution_count": 4,
   "metadata": {},
   "outputs": [
    {
     "data": {
      "text/plain": [
       "[['A', '100W', 605], ['B', '100W', 683], ['B', '100W', 691]]"
      ]
     },
     "execution_count": 4,
     "metadata": {},
     "output_type": "execute_result"
    }
   ],
   "source": [
    "temp = [['A','100W',605],\n",
    "                 ['B','100W',683],\n",
    "                 ['B','100W',691],\n",
    "                 ['B','200W',561],\n",
    "                 ['A','200W',530],\n",
    "                 ['A','100W',619],\n",
    "                 ['B','100W',686],\n",
    "                 ['B','200W',600],\n",
    "                 ['B','100W',696],\n",
    "                 ['A','200W',579],\n",
    "                 ['A','200W',520],\n",
    "                 ['A','100W',622],\n",
    "                 ['A','100W',668],\n",
    "                 ['B','200W',569],\n",
    "                 ['B','200W',555],\n",
    "                 ['A','200W',541]]\n",
    "\n",
    "rdd = spark.sparkContext.parallelize(temp, 2)\n",
    "\n",
    "rdd.take(3)"
   ]
  },
  {
   "cell_type": "code",
   "execution_count": 5,
   "metadata": {},
   "outputs": [
    {
     "data": {
      "text/plain": [
       "[('A', 605), ('B', 683)]"
      ]
     },
     "execution_count": 5,
     "metadata": {},
     "output_type": "execute_result"
    }
   ],
   "source": [
    "rdd_1 = rdd.map(lambda x: (x[0], x[2]))     # key : value  rdd\n",
    "\n",
    "rdd_1.take(2)"
   ]
  },
  {
   "cell_type": "code",
   "execution_count": 6,
   "metadata": {},
   "outputs": [
    {
     "data": {
      "text/plain": [
       "[['A', [605, 1]], ['B', [683, 1]]]"
      ]
     },
     "execution_count": 6,
     "metadata": {},
     "output_type": "execute_result"
    }
   ],
   "source": [
    "rdd_2 = rdd_1.map(lambda x: [x[0], [x[1], 1]])\n",
    "\n",
    "rdd_2.take(2)"
   ]
  },
  {
   "cell_type": "markdown",
   "metadata": {},
   "source": [
    "#### reduceByKey()"
   ]
  },
  {
   "cell_type": "code",
   "execution_count": 7,
   "metadata": {},
   "outputs": [
    {
     "data": {
      "text/plain": [
       "[('A', [4684, 8]), ('B', [5041, 8])]"
      ]
     },
     "execution_count": 7,
     "metadata": {},
     "output_type": "execute_result"
    }
   ],
   "source": [
    "# count by key\n",
    "# reduceBykey = df.groupby('key').agg(F.sum('col_1')\n",
    "rdd_2.reduceByKey(lambda l1, l2 : [l1[0]+l2[0], l1[1]+l2[1]]).take(2)"
   ]
  },
  {
   "cell_type": "code",
   "execution_count": 8,
   "metadata": {},
   "outputs": [
    {
     "data": {
      "text/plain": [
       "[('A', [605, 579, 619, 541]), ('B', [683, 696, 600, 555])]"
      ]
     },
     "execution_count": 8,
     "metadata": {},
     "output_type": "execute_result"
    }
   ],
   "source": [
    "# count \n",
    "rdd_2.reduceByKey(lambda l1, l2 : [l1[0],l2[0], l1[1],l2[1]]).take(2)"
   ]
  },
  {
   "cell_type": "code",
   "execution_count": 9,
   "metadata": {},
   "outputs": [
    {
     "data": {
      "text/plain": [
       "[[[0], 585.5, 8], [[0], 630.125, 8]]"
      ]
     },
     "execution_count": 9,
     "metadata": {},
     "output_type": "execute_result"
    }
   ],
   "source": [
    "rdd_3 = rdd_2.reduceByKey(lambda l1, l2 : [l1[0]+l2[0], l1[1]+l2[1]])\n",
    "\n",
    "rdd_3.map(lambda l : [[0], float(l[1][0])/l[1][1], l[1][1]]).collect()"
   ]
  },
  {
   "cell_type": "markdown",
   "metadata": {},
   "source": [
    "### 连接(Join)"
   ]
  },
  {
   "cell_type": "code",
   "execution_count": 10,
   "metadata": {},
   "outputs": [
    {
     "data": {
      "text/plain": [
       "[('si1', ['Robin', 'M']), ('si2', ['Maria', 'F']), ('si3', ['Julie', 'F'])]"
      ]
     },
     "execution_count": 10,
     "metadata": {},
     "output_type": "execute_result"
    }
   ],
   "source": [
    "data_a  = [['si1','Robin','M'],\n",
    "           ['si2','Maria','F'],\n",
    "           ['si3','Julie','F'],\n",
    "           ['si4','Bob',  'M'],\n",
    "           ['si6','William','M']]\n",
    "\n",
    "data_b = [['si1','Python'],\n",
    "          ['si3','Java'],\n",
    "          ['si1','Java'],\n",
    "          ['si2','Python'],\n",
    "          ['si3','Ruby'],\n",
    "          ['si4','C++'],\n",
    "          ['si5','C'],\n",
    "          ['si4','Python'],\n",
    "          ['si2','Java']]\n",
    "\n",
    "rdd_a = spark.sparkContext.parallelize(data_a, 2)\n",
    "\n",
    "rdd_b = spark.sparkContext.parallelize(data_b, 2)\n",
    "\n",
    "rdd_a2 = rdd_a.map(lambda val: (val[0], [val[1], val[2]]))\n",
    "rdd_a2.take(3)"
   ]
  },
  {
   "cell_type": "code",
   "execution_count": 11,
   "metadata": {},
   "outputs": [
    {
     "data": {
      "text/plain": [
       "[('si4', ('Bob', 'C++')),\n",
       " ('si4', ('Bob', 'Python')),\n",
       " ('si3', ('Julie', 'Java')),\n",
       " ('si3', ('Julie', 'Ruby')),\n",
       " ('si1', ('Robin', 'Python')),\n",
       " ('si1', ('Robin', 'Java')),\n",
       " ('si2', ('Maria', 'Python')),\n",
       " ('si2', ('Maria', 'Java'))]"
      ]
     },
     "execution_count": 11,
     "metadata": {},
     "output_type": "execute_result"
    }
   ],
   "source": [
    "# join rdd_a and rdd_b\n",
    "a_join_b = rdd_a.join(rdd_b)\n",
    "\n",
    "a_join_b.collect()"
   ]
  },
  {
   "cell_type": "code",
   "execution_count": 12,
   "metadata": {},
   "outputs": [
    {
     "data": {
      "text/plain": [
       "[('si4', ('Bob', 'C++')),\n",
       " ('si4', ('Bob', 'Python')),\n",
       " ('si6', ('William', None)),\n",
       " ('si3', ('Julie', 'Java')),\n",
       " ('si3', ('Julie', 'Ruby')),\n",
       " ('si1', ('Robin', 'Python')),\n",
       " ('si1', ('Robin', 'Java')),\n",
       " ('si2', ('Maria', 'Python')),\n",
       " ('si2', ('Maria', 'Java'))]"
      ]
     },
     "execution_count": 12,
     "metadata": {},
     "output_type": "execute_result"
    }
   ],
   "source": [
    "# left out join\n",
    "rdd_a.leftOuterJoin(rdd_b).collect()"
   ]
  },
  {
   "cell_type": "code",
   "execution_count": 13,
   "metadata": {},
   "outputs": [
    {
     "data": {
      "text/plain": [
       "[('si4', ('Bob', 'C++')),\n",
       " ('si4', ('Bob', 'Python')),\n",
       " ('si3', ('Julie', 'Java')),\n",
       " ('si3', ('Julie', 'Ruby')),\n",
       " ('si5', (None, 'C')),\n",
       " ('si1', ('Robin', 'Python')),\n",
       " ('si1', ('Robin', 'Java')),\n",
       " ('si2', ('Maria', 'Python')),\n",
       " ('si2', ('Maria', 'Java'))]"
      ]
     },
     "execution_count": 13,
     "metadata": {},
     "output_type": "execute_result"
    }
   ],
   "source": [
    "# right out join\n",
    "rdd_a.rightOuterJoin(rdd_b).collect()"
   ]
  },
  {
   "cell_type": "code",
   "execution_count": 14,
   "metadata": {},
   "outputs": [
    {
     "data": {
      "text/plain": [
       "[('si4', ('Bob', 'C++')),\n",
       " ('si4', ('Bob', 'Python')),\n",
       " ('si6', ('William', None)),\n",
       " ('si3', ('Julie', 'Java')),\n",
       " ('si3', ('Julie', 'Ruby')),\n",
       " ('si5', (None, 'C')),\n",
       " ('si1', ('Robin', 'Python')),\n",
       " ('si1', ('Robin', 'Java')),\n",
       " ('si2', ('Maria', 'Python')),\n",
       " ('si2', ('Maria', 'Java'))]"
      ]
     },
     "execution_count": 14,
     "metadata": {},
     "output_type": "execute_result"
    }
   ],
   "source": [
    "# 全连接\n",
    "rdd_a.fullOuterJoin(rdd_b).collect()"
   ]
  },
  {
   "cell_type": "markdown",
   "metadata": {},
   "source": [
    "### Page Rank"
   ]
  },
  {
   "cell_type": "code",
   "execution_count": 46,
   "metadata": {},
   "outputs": [],
   "source": [
    "# Page rank algorithm\n",
    "\n",
    "pageLinks =  [['a' ,['b','c','d']],\n",
    "              ['b', ['d','c','e']],\n",
    "              ['c', ['b','a']],\n",
    "              ['d', ['a','c','f']],\n",
    "              ['e', ['a','b','f']],\n",
    "              ['f', ['a','c','e']]]\n",
    "pageRanks =  [['a',1],\n",
    "              ['b',2],\n",
    "              ['c',1],\n",
    "              ['d',2],\n",
    "              ['e',1],\n",
    "              ['f',2]]\n",
    "# calculate contributions.\n",
    "def rankContribution(uris, rank):\n",
    "    numberOfUris = len(uris)\n",
    "    rankContribution = float(rank) / numberOfUris\n",
    "    newrank =[]\n",
    "    for uri in uris:\n",
    "        newrank.append((uri, rankContribution))\n",
    "    return newrank"
   ]
  },
  {
   "cell_type": "code",
   "execution_count": 47,
   "metadata": {},
   "outputs": [],
   "source": [
    "# Creating paired RDDs.\n",
    "\n",
    "pageLinksRDD  = spark.sparkContext.parallelize(pageLinks, 2)\n",
    "\n",
    "pageRanksRDD  = spark.sparkContext.parallelize(pageRanks, 2)\n",
    "\n",
    "# Creating loop for page rank updation.\n",
    "\n",
    "numIter = 20\n",
    "s = 0.85"
   ]
  },
  {
   "cell_type": "markdown",
   "metadata": {},
   "source": [
    "#### 一次迭代的过程"
   ]
  },
  {
   "cell_type": "code",
   "execution_count": 48,
   "metadata": {},
   "outputs": [
    {
     "data": {
      "text/plain": [
       "[('b', (['d', 'c', 'e'], 2)),\n",
       " ('c', (['b', 'a'], 1)),\n",
       " ('a', (['b', 'c', 'd'], 1)),\n",
       " ('e', (['a', 'b', 'f'], 1)),\n",
       " ('d', (['a', 'c', 'f'], 2)),\n",
       " ('f', (['a', 'c', 'e'], 2))]"
      ]
     },
     "execution_count": 48,
     "metadata": {},
     "output_type": "execute_result"
    }
   ],
   "source": [
    "linksrank = pageLinksRDD.join(pageRanksRDD)\n",
    "linksrank.collect()"
   ]
  },
  {
   "cell_type": "code",
   "execution_count": 49,
   "metadata": {},
   "outputs": [
    {
     "data": {
      "text/plain": [
       "[[('d', 0.6666666666666666),\n",
       "  ('c', 0.6666666666666666),\n",
       "  ('e', 0.6666666666666666)],\n",
       " [('b', 0.5), ('a', 0.5)],\n",
       " [('b', 0.3333333333333333),\n",
       "  ('c', 0.3333333333333333),\n",
       "  ('d', 0.3333333333333333)],\n",
       " [('a', 0.3333333333333333),\n",
       "  ('b', 0.3333333333333333),\n",
       "  ('f', 0.3333333333333333)],\n",
       " [('a', 0.6666666666666666),\n",
       "  ('c', 0.6666666666666666),\n",
       "  ('f', 0.6666666666666666)],\n",
       " [('a', 0.6666666666666666),\n",
       "  ('c', 0.6666666666666666),\n",
       "  ('e', 0.6666666666666666)]]"
      ]
     },
     "execution_count": 49,
     "metadata": {},
     "output_type": "execute_result"
    }
   ],
   "source": [
    "# map\n",
    "linksrank.map(lambda x: rankContribution(x[1][0], x[1][1])).collect()"
   ]
  },
  {
   "cell_type": "code",
   "execution_count": 50,
   "metadata": {},
   "outputs": [
    {
     "data": {
      "text/plain": [
       "[('d', 0.6666666666666666),\n",
       " ('c', 0.6666666666666666),\n",
       " ('e', 0.6666666666666666),\n",
       " ('b', 0.5),\n",
       " ('a', 0.5),\n",
       " ('b', 0.3333333333333333),\n",
       " ('c', 0.3333333333333333),\n",
       " ('d', 0.3333333333333333),\n",
       " ('a', 0.3333333333333333),\n",
       " ('b', 0.3333333333333333),\n",
       " ('f', 0.3333333333333333),\n",
       " ('a', 0.6666666666666666),\n",
       " ('c', 0.6666666666666666),\n",
       " ('f', 0.6666666666666666),\n",
       " ('a', 0.6666666666666666),\n",
       " ('c', 0.6666666666666666),\n",
       " ('e', 0.6666666666666666)]"
      ]
     },
     "execution_count": 50,
     "metadata": {},
     "output_type": "execute_result"
    }
   ],
   "source": [
    "linksrank.flatMap(lambda x: rankContribution(x[1][0], x[1][1])).collect()"
   ]
  },
  {
   "cell_type": "code",
   "execution_count": 51,
   "metadata": {},
   "outputs": [
    {
     "data": {
      "text/plain": [
       "[('c', 2.333333333333333),\n",
       " ('b', 1.1666666666666665),\n",
       " ('e', 1.3333333333333333),\n",
       " ('a', 2.1666666666666665),\n",
       " ('d', 1.0),\n",
       " ('f', 1.0)]"
      ]
     },
     "execution_count": 51,
     "metadata": {},
     "output_type": "execute_result"
    }
   ],
   "source": [
    "# reduceByKey\n",
    "linksrank.flatMap(lambda x: rankContribution(x[1][0], x[1][1])).reduceByKey(lambda v1, v2: v1+v2).collect()"
   ]
  },
  {
   "cell_type": "code",
   "execution_count": 52,
   "metadata": {},
   "outputs": [
    {
     "data": {
      "text/plain": [
       "[('c', 2.133333333333333),\n",
       " ('b', 1.1416666666666666),\n",
       " ('e', 1.2833333333333332),\n",
       " ('a', 1.9916666666666667),\n",
       " ('d', 1.0),\n",
       " ('f', 1.0)]"
      ]
     },
     "execution_count": 52,
     "metadata": {},
     "output_type": "execute_result"
    }
   ],
   "source": [
    "# * s\n",
    "linksrank.flatMap(lambda x: rankContribution(x[1][0], x[1][1])).reduceByKey(lambda v1, v2: v1+v2).map(lambda x: (x[0],(1-s)+s*x[1])).collect()"
   ]
  },
  {
   "cell_type": "code",
   "execution_count": 57,
   "metadata": {},
   "outputs": [
    {
     "data": {
      "text/plain": [
       "[('f', 0.5899136545120213),\n",
       " ('d', 0.8778202278629172),\n",
       " ('b', 1.2614387993919274),\n",
       " ('c', 1.293730163938056),\n",
       " ('e', 0.674618225080884),\n",
       " ('a', 1.3069858329638677)]"
      ]
     },
     "execution_count": 57,
     "metadata": {},
     "output_type": "execute_result"
    }
   ],
   "source": [
    "# 10 轮迭代后PR值的变化\n",
    "# record_dict 记录PR的变化情况\n",
    "record_dict = {'a':[1], 'b':[2], 'c':[1], 'd':[2],'e':[1], 'f':[2]}\n",
    "for i in range(10):\n",
    "    linksRank = pageLinksRDD.join(pageRanksRDD)\n",
    "    contributedRDD = linksRank.flatMap(lambda x : rankContribution(x[1][0],x[1][1]))\n",
    "    sumRanks = contributedRDD.reduceByKey(lambda v1,v2 : v1+v2)\n",
    "    pageRanksRDD = sumRanks.map(lambda x : (x[0],(1-s)+s*x[1]))\n",
    "    for page, rank in list(pageRanksRDD.collect()):\n",
    "        record_dict[page].append(rank)\n",
    "\n",
    "pageRanksRDD.collect()"
   ]
  },
  {
   "cell_type": "code",
   "execution_count": 31,
   "metadata": {},
   "outputs": [],
   "source": [
    "import seaborn as sns\n",
    "import matplotlib.pyplot as plt\n",
    "%matplotlib inline"
   ]
  },
  {
   "cell_type": "code",
   "execution_count": 61,
   "metadata": {},
   "outputs": [
    {
     "data": {
      "text/plain": [
       "<matplotlib.legend.Legend at 0x7f1ce7951a58>"
      ]
     },
     "execution_count": 61,
     "metadata": {},
     "output_type": "execute_result"
    },
    {
     "data": {
      "image/png": "[encoded data removed]",
      "text/plain": [
       "<Figure size 1152x360 with 1 Axes>"
      ]
     },
     "metadata": {
      "needs_background": "light"
     },
     "output_type": "display_data"
    }
   ],
   "source": [
    "plt.figure(figsize=(16, 5))\n",
    "plt.title('PageRank')\n",
    "for k in record_dict.keys():\n",
    "    plt.plot(record_dict[k], label=k)\n",
    "plt.legend()"
   ]
  },
  {
   "cell_type": "code",
   "execution_count": null,
   "metadata": {},
   "outputs": [],
   "source": []
  }
 ],
 "metadata": {
  "kernelspec": {
   "display_name": "Python 3",
   "language": "python",
   "name": "python3"
  },
  "language_info": {
   "codemirror_mode": {
    "name": "ipython",
    "version": 3
   },
   "file_extension": ".py",
   "mimetype": "text/x-python",
   "name": "python",
   "nbconvert_exporter": "python",
   "pygments_lexer": "ipython3",
   "version": "3.7.2"
  }
 },
 "nbformat": 4,
 "nbformat_minor": 2
}
